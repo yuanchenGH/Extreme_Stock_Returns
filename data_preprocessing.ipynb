{
 "cells": [
  {
   "cell_type": "code",
   "execution_count": 4,
   "id": "a9ac2d65",
   "metadata": {},
   "outputs": [],
   "source": [
    "import pandas as pd\n",
    "import numpy as np\n",
    "from imblearn.under_sampling import RandomUnderSampler"
   ]
  },
  {
   "cell_type": "code",
   "execution_count": 2,
   "id": "ac8246f9",
   "metadata": {
    "scrolled": false
   },
   "outputs": [],
   "source": [
    "def data_preprocess(file_list):\n",
    "    path = 'D:\\\\Stock Data\\\\'\n",
    "    for file in file_list:\n",
    "        print('Start processing file: ' + file)\n",
    "        df = pd.read_csv(path + file)\n",
    "        df = df.dropna() #drop NaN data\n",
    "        n1 = len(df)\n",
    "        if df['RET'].dtype == 'object': \n",
    "            df.drop(df[df['RET'] == 'C'].index, inplace=True)\n",
    "            df.drop(df[df['RET'] == 'B'].index, inplace=True)\n",
    "        df['RET'] = df['RET'].astype(float)\n",
    "        #generate labels\n",
    "        for i, data in df.iterrows():\n",
    "            if data['RET'] > data['PAST_1y_p90']:\n",
    "                df.at[i, 'labels'] = 1\n",
    "            else:\n",
    "                df.at[i, 'labels'] = 0\n",
    "        df = df.drop(columns=['PERMNO', 'DATE', 'RET', 'RETX'])\n",
    "        #randomized data\n",
    "        df = df.sample(frac=1)\n",
    "        df_test = df.sample(frac=0.2)\n",
    "        df_train = df.drop(df_test.index)\n",
    "        under = RandomUnderSampler(sampling_strategy=1.0)\n",
    "        y = df_train['labels']\n",
    "        df_under, y_re = under.fit_resample(df_train.drop(['labels'], axis=1), y)\n",
    "        df_under['labels'] = y_re.values\n",
    "        df_under = df_under.sample(frac=1)\n",
    "        print(len(df), len(df_train), len(df_test), len(df_under))\n",
    "        #save data to new csv file\n",
    "        trainfilename = file.split('.')[0]+'_train1.csv'\n",
    "        df_train.to_csv(path + trainfilename, index=False)\n",
    "        print('Saved new file: ' + trainfilename)\n",
    "        testfilename = file.split('.')[0]+'_test1.csv'\n",
    "        df_test.to_csv(path + testfilename, index=False)\n",
    "        print('Saved new file: ' + testfilename)\n",
    "        undersamplingfilename = file.split('.')[0]+'_under.csv'\n",
    "        df_under.to_csv(path + undersamplingfilename, index=False)\n",
    "        print('Saved new file: ' + undersamplingfilename)\n",
    "        \n",
    "def count(file_list):\n",
    "    path = 'D:\\\\Stock Data\\\\'\n",
    "    for file in file_list:\n",
    "        print('Start processing file: ' + file)\n",
    "        df = pd.read_csv(path + file)\n",
    "        df1 = df[df['labels']==1]\n",
    "        print(len(df1)/len(df))"
   ]
  },
  {
   "cell_type": "code",
   "execution_count": 50,
   "id": "9a7bc290",
   "metadata": {},
   "outputs": [],
   "source": [
    "file_list = ['data2020.csv']"
   ]
  },
  {
   "cell_type": "code",
   "execution_count": 51,
   "id": "4d7836e0",
   "metadata": {
    "scrolled": false
   },
   "outputs": [
    {
     "name": "stdout",
     "output_type": "stream",
     "text": [
      "Start processing file: data2020.csv\n",
      "268873 215098 53775 72918\n",
      "Saved new file: data2020_train1.csv\n",
      "Saved new file: data2020_test1.csv\n",
      "Saved new file: data2020_under.csv\n"
     ]
    }
   ],
   "source": [
    "data_preprocess(file_list)"
   ]
  },
  {
   "cell_type": "code",
   "execution_count": 52,
   "id": "58b924c4",
   "metadata": {},
   "outputs": [],
   "source": [
    "#include two financial crisis\n",
    "file_list = ['data1997.csv', 'data1998.csv', 'data1999.csv', 'data2000.csv', 'data2001.csv', \\\n",
    "              'data2002.csv', 'data2003.csv', 'data2004.csv', 'data2005.csv', 'data2006.csv', \\\n",
    "              'data2007.csv', 'data2008.csv', 'data2009.csv', 'data2010.csv', 'data2011.csv', \\\n",
    "              'data2012.csv', 'data2013.csv', 'data2014.csv', 'data2015.csv', 'data2016.csv', \\\n",
    "              'data2017.csv', 'data2018.csv', 'data2019.csv']"
   ]
  },
  {
   "cell_type": "code",
   "execution_count": 53,
   "id": "a3c9a2b9",
   "metadata": {},
   "outputs": [
    {
     "name": "stdout",
     "output_type": "stream",
     "text": [
      "Start processing file: data1997.csv\n"
     ]
    },
    {
     "name": "stderr",
     "output_type": "stream",
     "text": [
      "D:\\PROGRAMS\\Anaconda3\\lib\\site-packages\\IPython\\core\\interactiveshell.py:3357: DtypeWarning: Columns (2,3) have mixed types.Specify dtype option on import or set low_memory=False.\n",
      "  if (await self.run_code(code, result,  async_=asy)):\n"
     ]
    },
    {
     "name": "stdout",
     "output_type": "stream",
     "text": [
      "1460286 1168229 292057 240876\n",
      "Saved new file: data1997_train1.csv\n",
      "Saved new file: data1997_test1.csv\n",
      "Saved new file: data1997_under.csv\n",
      "Start processing file: data1998.csv\n"
     ]
    },
    {
     "name": "stderr",
     "output_type": "stream",
     "text": [
      "D:\\PROGRAMS\\Anaconda3\\lib\\site-packages\\IPython\\core\\interactiveshell.py:3357: DtypeWarning: Columns (2,3) have mixed types.Specify dtype option on import or set low_memory=False.\n",
      "  if (await self.run_code(code, result,  async_=asy)):\n"
     ]
    },
    {
     "name": "stdout",
     "output_type": "stream",
     "text": [
      "1380175 1104140 276035 257810\n",
      "Saved new file: data1998_train1.csv\n",
      "Saved new file: data1998_test1.csv\n",
      "Saved new file: data1998_under.csv\n",
      "Start processing file: data1999.csv\n"
     ]
    },
    {
     "name": "stderr",
     "output_type": "stream",
     "text": [
      "D:\\PROGRAMS\\Anaconda3\\lib\\site-packages\\IPython\\core\\interactiveshell.py:3357: DtypeWarning: Columns (2,3) have mixed types.Specify dtype option on import or set low_memory=False.\n",
      "  if (await self.run_code(code, result,  async_=asy)):\n"
     ]
    },
    {
     "name": "stdout",
     "output_type": "stream",
     "text": [
      "1380175 1104140 276035 257876\n",
      "Saved new file: data1999_train1.csv\n",
      "Saved new file: data1999_test1.csv\n",
      "Saved new file: data1999_under.csv\n",
      "Start processing file: data2000.csv\n"
     ]
    },
    {
     "name": "stderr",
     "output_type": "stream",
     "text": [
      "D:\\PROGRAMS\\Anaconda3\\lib\\site-packages\\IPython\\core\\interactiveshell.py:3357: DtypeWarning: Columns (2,3) have mixed types.Specify dtype option on import or set low_memory=False.\n",
      "  if (await self.run_code(code, result,  async_=asy)):\n"
     ]
    },
    {
     "name": "stdout",
     "output_type": "stream",
     "text": [
      "1261905 1009524 252381 229446\n",
      "Saved new file: data2000_train1.csv\n",
      "Saved new file: data2000_test1.csv\n",
      "Saved new file: data2000_under.csv\n",
      "Start processing file: data2001.csv\n"
     ]
    },
    {
     "name": "stderr",
     "output_type": "stream",
     "text": [
      "D:\\PROGRAMS\\Anaconda3\\lib\\site-packages\\IPython\\core\\interactiveshell.py:3357: DtypeWarning: Columns (2,3) have mixed types.Specify dtype option on import or set low_memory=False.\n",
      "  if (await self.run_code(code, result,  async_=asy)):\n"
     ]
    },
    {
     "name": "stdout",
     "output_type": "stream",
     "text": [
      "1167607 934086 233521 168046\n",
      "Saved new file: data2001_train1.csv\n",
      "Saved new file: data2001_test1.csv\n",
      "Saved new file: data2001_under.csv\n",
      "Start processing file: data2002.csv\n"
     ]
    },
    {
     "name": "stderr",
     "output_type": "stream",
     "text": [
      "D:\\PROGRAMS\\Anaconda3\\lib\\site-packages\\IPython\\core\\interactiveshell.py:3357: DtypeWarning: Columns (2,3) have mixed types.Specify dtype option on import or set low_memory=False.\n",
      "  if (await self.run_code(code, result,  async_=asy)):\n"
     ]
    },
    {
     "name": "stdout",
     "output_type": "stream",
     "text": [
      "1245908 996726 249182 199974\n",
      "Saved new file: data2002_train1.csv\n",
      "Saved new file: data2002_test1.csv\n",
      "Saved new file: data2002_under.csv\n",
      "Start processing file: data2003.csv\n"
     ]
    },
    {
     "name": "stderr",
     "output_type": "stream",
     "text": [
      "D:\\PROGRAMS\\Anaconda3\\lib\\site-packages\\IPython\\core\\interactiveshell.py:3357: DtypeWarning: Columns (2,3) have mixed types.Specify dtype option on import or set low_memory=False.\n",
      "  if (await self.run_code(code, result,  async_=asy)):\n"
     ]
    },
    {
     "name": "stdout",
     "output_type": "stream",
     "text": [
      "1206501 965201 241300 159164\n",
      "Saved new file: data2003_train1.csv\n",
      "Saved new file: data2003_test1.csv\n",
      "Saved new file: data2003_under.csv\n",
      "Start processing file: data2004.csv\n"
     ]
    },
    {
     "name": "stderr",
     "output_type": "stream",
     "text": [
      "D:\\PROGRAMS\\Anaconda3\\lib\\site-packages\\IPython\\core\\interactiveshell.py:3357: DtypeWarning: Columns (2,3) have mixed types.Specify dtype option on import or set low_memory=False.\n",
      "  if (await self.run_code(code, result,  async_=asy)):\n"
     ]
    },
    {
     "name": "stdout",
     "output_type": "stream",
     "text": [
      "1178440 942752 235688 168772\n",
      "Saved new file: data2004_train1.csv\n",
      "Saved new file: data2004_test1.csv\n",
      "Saved new file: data2004_under.csv\n",
      "Start processing file: data2005.csv\n",
      "1161287 929030 232257 177608\n",
      "Saved new file: data2005_train1.csv\n",
      "Saved new file: data2005_test1.csv\n",
      "Saved new file: data2005_under.csv\n",
      "Start processing file: data2006.csv\n",
      "1135301 908241 227060 183640\n",
      "Saved new file: data2006_train1.csv\n",
      "Saved new file: data2006_test1.csv\n",
      "Saved new file: data2006_under.csv\n",
      "Start processing file: data2007.csv\n",
      "1116521 893217 223304 207354\n",
      "Saved new file: data2007_train1.csv\n",
      "Saved new file: data2007_test1.csv\n",
      "Saved new file: data2007_under.csv\n",
      "Start processing file: data2008.csv\n"
     ]
    },
    {
     "name": "stderr",
     "output_type": "stream",
     "text": [
      "D:\\PROGRAMS\\Anaconda3\\lib\\site-packages\\IPython\\core\\interactiveshell.py:3357: DtypeWarning: Columns (2,3) have mixed types.Specify dtype option on import or set low_memory=False.\n",
      "  if (await self.run_code(code, result,  async_=asy)):\n"
     ]
    },
    {
     "name": "stdout",
     "output_type": "stream",
     "text": [
      "1115339 892271 223068 284988\n",
      "Saved new file: data2008_train1.csv\n",
      "Saved new file: data2008_test1.csv\n",
      "Saved new file: data2008_under.csv\n",
      "Start processing file: data2009.csv\n"
     ]
    },
    {
     "name": "stderr",
     "output_type": "stream",
     "text": [
      "D:\\PROGRAMS\\Anaconda3\\lib\\site-packages\\IPython\\core\\interactiveshell.py:3357: DtypeWarning: Columns (2,3) have mixed types.Specify dtype option on import or set low_memory=False.\n",
      "  if (await self.run_code(code, result,  async_=asy)):\n"
     ]
    },
    {
     "name": "stdout",
     "output_type": "stream",
     "text": [
      "1058127 846502 211625 140884\n",
      "Saved new file: data2009_train1.csv\n",
      "Saved new file: data2009_test1.csv\n",
      "Saved new file: data2009_under.csv\n",
      "Start processing file: data2010.csv\n",
      "1016692 813354 203338 128322\n",
      "Saved new file: data2010_train1.csv\n",
      "Saved new file: data2010_test1.csv\n",
      "Saved new file: data2010_under.csv\n",
      "Start processing file: data2011.csv\n",
      "1014086 811269 202817 188324\n",
      "Saved new file: data2011_train1.csv\n",
      "Saved new file: data2011_test1.csv\n",
      "Saved new file: data2011_under.csv\n",
      "Start processing file: data2012.csv\n"
     ]
    },
    {
     "name": "stderr",
     "output_type": "stream",
     "text": [
      "D:\\PROGRAMS\\Anaconda3\\lib\\site-packages\\IPython\\core\\interactiveshell.py:3357: DtypeWarning: Columns (2,3) have mixed types.Specify dtype option on import or set low_memory=False.\n",
      "  if (await self.run_code(code, result,  async_=asy)):\n"
     ]
    },
    {
     "name": "stdout",
     "output_type": "stream",
     "text": [
      "988414 790731 197683 117298\n",
      "Saved new file: data2012_train1.csv\n",
      "Saved new file: data2012_test1.csv\n",
      "Saved new file: data2012_under.csv\n",
      "Start processing file: data2013.csv\n",
      "991098 792878 198220 146828\n",
      "Saved new file: data2013_train1.csv\n",
      "Saved new file: data2013_test1.csv\n",
      "Saved new file: data2013_under.csv\n",
      "Start processing file: data2014.csv\n",
      "1002299 801839 200460 159944\n",
      "Saved new file: data2014_train1.csv\n",
      "Saved new file: data2014_test1.csv\n",
      "Saved new file: data2014_under.csv\n",
      "Start processing file: data2015.csv\n"
     ]
    },
    {
     "name": "stderr",
     "output_type": "stream",
     "text": [
      "D:\\PROGRAMS\\Anaconda3\\lib\\site-packages\\IPython\\core\\interactiveshell.py:3357: DtypeWarning: Columns (2,3) have mixed types.Specify dtype option on import or set low_memory=False.\n",
      "  if (await self.run_code(code, result,  async_=asy)):\n"
     ]
    },
    {
     "name": "stdout",
     "output_type": "stream",
     "text": [
      "1010104 808083 202021 182706\n",
      "Saved new file: data2015_train1.csv\n",
      "Saved new file: data2015_test1.csv\n",
      "Saved new file: data2015_under.csv\n",
      "Start processing file: data2016.csv\n"
     ]
    },
    {
     "name": "stderr",
     "output_type": "stream",
     "text": [
      "D:\\PROGRAMS\\Anaconda3\\lib\\site-packages\\IPython\\core\\interactiveshell.py:3357: DtypeWarning: Columns (2,3) have mixed types.Specify dtype option on import or set low_memory=False.\n",
      "  if (await self.run_code(code, result,  async_=asy)):\n"
     ]
    },
    {
     "name": "stdout",
     "output_type": "stream",
     "text": [
      "992020 793616 198404 167386\n",
      "Saved new file: data2016_train1.csv\n",
      "Saved new file: data2016_test1.csv\n",
      "Saved new file: data2016_under.csv\n",
      "Start processing file: data2017.csv\n",
      "972230 777784 194446 137590\n",
      "Saved new file: data2017_train1.csv\n",
      "Saved new file: data2017_test1.csv\n",
      "Saved new file: data2017_under.csv\n",
      "Start processing file: data2018.csv\n",
      "970995 776796 194199 174174\n",
      "Saved new file: data2018_train1.csv\n",
      "Saved new file: data2018_test1.csv\n",
      "Saved new file: data2018_under.csv\n",
      "Start processing file: data2019.csv\n",
      "975731 780585 195146 161396\n",
      "Saved new file: data2019_train1.csv\n",
      "Saved new file: data2019_test1.csv\n",
      "Saved new file: data2019_under.csv\n"
     ]
    }
   ],
   "source": [
    "data_preprocess(file_list)"
   ]
  },
  {
   "cell_type": "code",
   "execution_count": 5,
   "id": "9881b073",
   "metadata": {},
   "outputs": [
    {
     "name": "stdout",
     "output_type": "stream",
     "text": [
      "Start processing file: data2000_train1.csv\n",
      "0.11364068610553092\n",
      "Start processing file: data2001_train1.csv\n",
      "0.0899521029112951\n",
      "Start processing file: data2002_train1.csv\n",
      "0.10031543272674737\n",
      "Start processing file: data2003_train1.csv\n",
      "0.08245122000495234\n",
      "Start processing file: data2004_train1.csv\n",
      "0.0895102847832728\n",
      "Start processing file: data2005_train1.csv\n",
      "0.09558787122052033\n",
      "Start processing file: data2006_train1.csv\n",
      "0.1010965151319969\n",
      "Start processing file: data2007_train1.csv\n",
      "0.11607145855934224\n",
      "Start processing file: data2008_train1.csv\n",
      "0.15969811862091227\n",
      "Start processing file: data2009_train1.csv\n",
      "0.08321539701028467\n",
      "Start processing file: data2010_train1.csv\n",
      "0.07888447096836064\n",
      "Start processing file: data2011_train1.csv\n",
      "0.11606754356446505\n",
      "Start processing file: data2012_train1.csv\n",
      "0.07417060922108783\n",
      "Start processing file: data2013_train1.csv\n",
      "0.09259179848602181\n",
      "Start processing file: data2014_train1.csv\n",
      "0.09973573248495023\n",
      "Start processing file: data2015_train1.csv\n",
      "0.11304903085450381\n",
      "Start processing file: data2016_train1.csv\n",
      "0.10545780327009537\n",
      "Start processing file: data2017_train1.csv\n",
      "0.0884500066856608\n",
      "Start processing file: data2018_train1.csv\n",
      "0.11211051550213956\n",
      "Start processing file: data2019_train1.csv\n",
      "0.10338143828026417\n",
      "Start processing file: data2020_train1.csv\n",
      "0.16949948395615022\n"
     ]
    }
   ],
   "source": [
    "file_list2 = ['data2000_train1.csv', 'data2001_train1.csv', 'data2002_train1.csv', \\\n",
    "                  'data2003_train1.csv', 'data2004_train1.csv', 'data2005_train1.csv', \\\n",
    "                  'data2006_train1.csv', 'data2007_train1.csv', 'data2008_train1.csv', \\\n",
    "                  'data2009_train1.csv', 'data2010_train1.csv', 'data2011_train1.csv', \\\n",
    "                  'data2012_train1.csv', 'data2013_train1.csv', 'data2014_train1.csv', \\\n",
    "                  'data2015_train1.csv', 'data2016_train1.csv', 'data2017_train1.csv', \\\n",
    "                  'data2018_train1.csv', 'data2019_train1.csv', 'data2020_train1.csv']\n",
    "count(file_list2)"
   ]
  },
  {
   "cell_type": "code",
   "execution_count": null,
   "id": "7282c851",
   "metadata": {},
   "outputs": [],
   "source": []
  }
 ],
 "metadata": {
  "kernelspec": {
   "display_name": "Python 3",
   "language": "python",
   "name": "python3"
  },
  "language_info": {
   "codemirror_mode": {
    "name": "ipython",
    "version": 3
   },
   "file_extension": ".py",
   "mimetype": "text/x-python",
   "name": "python",
   "nbconvert_exporter": "python",
   "pygments_lexer": "ipython3",
   "version": "3.8.8"
  }
 },
 "nbformat": 4,
 "nbformat_minor": 5
}
