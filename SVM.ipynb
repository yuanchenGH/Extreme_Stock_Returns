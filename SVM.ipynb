{
 "cells": [
  {
   "cell_type": "code",
   "execution_count": 3,
   "id": "a9ac2d65",
   "metadata": {},
   "outputs": [],
   "source": [
    "import pandas as pd\n",
    "import numpy as np\n",
    "from sklearn.svm import SVC\n",
    "from sklearn.metrics import accuracy_score\n",
    "from sklearn.linear_model import SGDClassifier\n",
    "from sklearn.preprocessing import StandardScaler\n",
    "from tqdm import tqdm"
   ]
  },
  {
   "cell_type": "code",
   "execution_count": 4,
   "id": "4b519bb4",
   "metadata": {},
   "outputs": [],
   "source": [
    "#Online training of a list of files\n",
    "def train_svm(file_list, cols, chunksize=1e6, scaledata=False):\n",
    "    for file in file_list:\n",
    "        path = 'D:\\\\Stock Data\\\\' + file\n",
    "        print('Training data file: ' + file)\n",
    "        for df in tqdm(pd.read_csv(path, chunksize=chunksize, usecols=cols)):\n",
    "            Xtrain = df.drop(['labels'], axis=1)\n",
    "            ytrain = df['labels']\n",
    "            if len(ytrain) < 10:\n",
    "                continue\n",
    "            if scaledata == True:\n",
    "                Xtrain = scale(Xtrain)\n",
    "            clf = SGDClassifier(loss='hinge')\n",
    "            clf.partial_fit(Xtrain, ytrain, classes=np.array([1,  0]))\n",
    "    print('Finished training...')\n",
    "    return clf\n",
    "\n",
    "#test SGDClassifier model\n",
    "def test_svm(model, test_file_list, cols):\n",
    "    n = len(test_file_list)\n",
    "    acc, pre, rec = np.zeros(n), np.zeros(n), np.zeros(n)\n",
    "    for k, file in enumerate(test_file_list):\n",
    "        path = 'D:\\\\Stock Data\\\\' + file\n",
    "        print('Testing data file: ' + file)\n",
    "        df_test = pd.read_csv(path, usecols=cols)\n",
    "        Xtest = df_test.drop(['labels'], axis=1)\n",
    "        ytest = df_test['labels']\n",
    "        ypred = model.predict(Xtest)\n",
    "        acc[k] = accuracy_score(ypred, ytest)\n",
    "        TP, FP, TN, FN = 0, 0, 0, 0\n",
    "        for i in range(len(ypred)):\n",
    "            if ypred[i] == 1 and ytest[i] == 1:\n",
    "                TP += 1\n",
    "            elif ypred[i] == 1 and ytest[i] == 0:\n",
    "                FP += 1\n",
    "            elif ypred[i] == 0 and ytest[i] == 0:\n",
    "                TN += 1    \n",
    "            elif ypred[i] == 0 and ytest[i] == 1:\n",
    "                FN += 1\n",
    "        pre[k] = TP/(TP + FP)\n",
    "        rec[k] = TP/(TP + FN)\n",
    "        print('Accuracy, Precision, Recall: ', np.round(np.mean(acc), 3), \\\n",
    "                    np.round(np.mean(pre), 3), np.round(np.mean(rec), 3))\n",
    "    print('Finished Testing...')\n",
    "\n",
    "#train individual file with SVC package    \n",
    "def train_svm2(file_list, cols):\n",
    "    for file in file_list:\n",
    "        trainfile = 'D:\\\\Stock Data\\\\' + file+\"_under.csv\"\n",
    "        testfile = 'D:\\\\Stock Data\\\\' + file+\"_test1.csv\"\n",
    "        print('Training data file: ' + file)\n",
    "        df = pd.read_csv(trainfile, usecols=cols)\n",
    "        Xtrain = df.drop(['labels'], axis=1)\n",
    "        ytrain = df['labels']\n",
    "        clf = SVC()\n",
    "        clf.fit(Xtrain, ytrain)\n",
    "        test_svm2(clf, testfile, cols)\n",
    "    print(\"Done\")\n",
    "\n",
    "#test SVC model\n",
    "def test_svm2(model, testfile, cols):\n",
    "    print('Testing data file: ' + testfile)\n",
    "    df_test = pd.read_csv(testfile, usecols=cols)\n",
    "    Xtest = df_test.drop(['labels'], axis=1)\n",
    "    ytest = df_test['labels']\n",
    "    ypred = model.predict(Xtest)\n",
    "    acc[k] = accuracy_score(ypred, ytest)\n",
    "    TP, FP, TN, FN = 0, 0, 0, 0\n",
    "    for i in range(len(ypred)):\n",
    "        if ypred[i] == 1 and ytest[i] == 1:\n",
    "            TP += 1\n",
    "        elif ypred[i] == 1 and ytest[i] == 0:\n",
    "            FP += 1\n",
    "        elif ypred[i] == 0 and ytest[i] == 0:\n",
    "            TN += 1    \n",
    "        elif ypred[i] == 0 and ytest[i] == 1:\n",
    "            FN += 1\n",
    "    pre[k] = TP/(TP + FP)\n",
    "    rec[k] = TP/(TP + FN)\n",
    "    print('Accuracy, Precision, Recall: ', np.round(np.mean(acc), 3), \\\n",
    "                np.round(np.mean(pre), 3), np.round(np.mean(rec), 3))\n",
    "\n",
    "#scale data\n",
    "def scale(data):\n",
    "    scaler = StandardScaler()\n",
    "    scaler.fit(data)\n",
    "    scaled_df = scaler.transform(data)\n",
    "    scaled_df = pd.DataFrame(scaled_df)\n",
    "    return scaled_df"
   ]
  },
  {
   "cell_type": "code",
   "execution_count": 5,
   "id": "b68c94ae",
   "metadata": {},
   "outputs": [],
   "source": [
    "cols = ['PAST_1y_p90', 'leverage', 'leverage_mkt', 'bm', 'roe', 'lag_baspread', 'lag_liquidity', 'lag_size', 'labels']"
   ]
  },
  {
   "cell_type": "code",
   "execution_count": 52,
   "id": "9e3335be",
   "metadata": {},
   "outputs": [
    {
     "name": "stderr",
     "output_type": "stream",
     "text": [
      "\r",
      "0it [00:00, ?it/s]"
     ]
    },
    {
     "name": "stdout",
     "output_type": "stream",
     "text": [
      "Training data file: data2020_train1.csv\n"
     ]
    },
    {
     "name": "stderr",
     "output_type": "stream",
     "text": [
      "1it [00:00,  3.90it/s]\n"
     ]
    },
    {
     "name": "stdout",
     "output_type": "stream",
     "text": [
      "Finished training...\n",
      "Testing data file: data2020_test1.csv\n"
     ]
    },
    {
     "name": "stderr",
     "output_type": "stream",
     "text": [
      "\r",
      "0it [00:00, ?it/s]"
     ]
    },
    {
     "name": "stdout",
     "output_type": "stream",
     "text": [
      "Accuracy, Precision, Recall:  0.723 0.156 0.148\n",
      "Finished Testing...\n",
      "Training data file: data2020_train1.csv\n"
     ]
    },
    {
     "name": "stderr",
     "output_type": "stream",
     "text": [
      "1it [00:00,  3.95it/s]\n"
     ]
    },
    {
     "name": "stdout",
     "output_type": "stream",
     "text": [
      "Finished training...\n",
      "Testing data file: data2020_test1.csv\n"
     ]
    },
    {
     "name": "stderr",
     "output_type": "stream",
     "text": [
      "\r",
      "0it [00:00, ?it/s]"
     ]
    },
    {
     "name": "stdout",
     "output_type": "stream",
     "text": [
      "Accuracy, Precision, Recall:  0.779 0.141 0.062\n",
      "Finished Testing...\n",
      "Training data file: data2020_train1.csv\n"
     ]
    },
    {
     "name": "stderr",
     "output_type": "stream",
     "text": [
      "1it [00:00,  3.93it/s]\n"
     ]
    },
    {
     "name": "stdout",
     "output_type": "stream",
     "text": [
      "Finished training...\n",
      "Testing data file: data2020_test1.csv\n"
     ]
    },
    {
     "name": "stderr",
     "output_type": "stream",
     "text": [
      "\r",
      "0it [00:00, ?it/s]"
     ]
    },
    {
     "name": "stdout",
     "output_type": "stream",
     "text": [
      "Accuracy, Precision, Recall:  0.7 0.174 0.208\n",
      "Finished Testing...\n",
      "Training data file: data2020_train1.csv\n"
     ]
    },
    {
     "name": "stderr",
     "output_type": "stream",
     "text": [
      "1it [00:00,  3.80it/s]\n"
     ]
    },
    {
     "name": "stdout",
     "output_type": "stream",
     "text": [
      "Finished training...\n",
      "Testing data file: data2020_test1.csv\n"
     ]
    },
    {
     "name": "stderr",
     "output_type": "stream",
     "text": [
      "\r",
      "0it [00:00, ?it/s]"
     ]
    },
    {
     "name": "stdout",
     "output_type": "stream",
     "text": [
      "Accuracy, Precision, Recall:  0.594 0.155 0.318\n",
      "Finished Testing...\n",
      "Training data file: data2020_train1.csv\n"
     ]
    },
    {
     "name": "stderr",
     "output_type": "stream",
     "text": [
      "1it [00:00,  3.74it/s]\n"
     ]
    },
    {
     "name": "stdout",
     "output_type": "stream",
     "text": [
      "Finished training...\n",
      "Testing data file: data2020_test1.csv\n"
     ]
    },
    {
     "name": "stderr",
     "output_type": "stream",
     "text": [
      "\r",
      "0it [00:00, ?it/s]"
     ]
    },
    {
     "name": "stdout",
     "output_type": "stream",
     "text": [
      "Accuracy, Precision, Recall:  0.684 0.115 0.132\n",
      "Finished Testing...\n",
      "Training data file: data2020_train1.csv\n"
     ]
    },
    {
     "name": "stderr",
     "output_type": "stream",
     "text": [
      "1it [00:00,  3.95it/s]\n"
     ]
    },
    {
     "name": "stdout",
     "output_type": "stream",
     "text": [
      "Finished training...\n",
      "Testing data file: data2020_test1.csv\n"
     ]
    },
    {
     "name": "stderr",
     "output_type": "stream",
     "text": [
      "\r",
      "0it [00:00, ?it/s]"
     ]
    },
    {
     "name": "stdout",
     "output_type": "stream",
     "text": [
      "Accuracy, Precision, Recall:  0.812 0.113 0.017\n",
      "Finished Testing...\n",
      "Training data file: data2020_train1.csv\n"
     ]
    },
    {
     "name": "stderr",
     "output_type": "stream",
     "text": [
      "1it [00:00,  3.74it/s]\n"
     ]
    },
    {
     "name": "stdout",
     "output_type": "stream",
     "text": [
      "Finished training...\n",
      "Testing data file: data2020_test1.csv\n"
     ]
    },
    {
     "name": "stderr",
     "output_type": "stream",
     "text": [
      "\r",
      "0it [00:00, ?it/s]"
     ]
    },
    {
     "name": "stdout",
     "output_type": "stream",
     "text": [
      "Accuracy, Precision, Recall:  0.655 0.113 0.154\n",
      "Finished Testing...\n",
      "Training data file: data2020_train1.csv\n"
     ]
    },
    {
     "name": "stderr",
     "output_type": "stream",
     "text": [
      "1it [00:00,  3.73it/s]\n"
     ]
    },
    {
     "name": "stdout",
     "output_type": "stream",
     "text": [
      "Finished training...\n",
      "Testing data file: data2020_test1.csv\n"
     ]
    },
    {
     "name": "stderr",
     "output_type": "stream",
     "text": [
      "\r",
      "0it [00:00, ?it/s]"
     ]
    },
    {
     "name": "stdout",
     "output_type": "stream",
     "text": [
      "Accuracy, Precision, Recall:  0.773 0.125 0.058\n",
      "Finished Testing...\n",
      "Training data file: data2020_train1.csv\n"
     ]
    },
    {
     "name": "stderr",
     "output_type": "stream",
     "text": [
      "1it [00:00,  3.87it/s]\n"
     ]
    },
    {
     "name": "stdout",
     "output_type": "stream",
     "text": [
      "Finished training...\n",
      "Testing data file: data2020_test1.csv\n"
     ]
    },
    {
     "name": "stderr",
     "output_type": "stream",
     "text": [
      "\r",
      "0it [00:00, ?it/s]"
     ]
    },
    {
     "name": "stdout",
     "output_type": "stream",
     "text": [
      "Accuracy, Precision, Recall:  0.765 0.101 0.05\n",
      "Finished Testing...\n",
      "Training data file: data2020_train1.csv\n"
     ]
    },
    {
     "name": "stderr",
     "output_type": "stream",
     "text": [
      "1it [00:00,  3.92it/s]\n"
     ]
    },
    {
     "name": "stdout",
     "output_type": "stream",
     "text": [
      "Finished training...\n",
      "Testing data file: data2020_test1.csv\n",
      "Accuracy, Precision, Recall:  0.312 0.18 0.869\n",
      "Finished Testing...\n"
     ]
    }
   ],
   "source": [
    "#original data vs undersampling\n",
    "file_list = ['data2020_train1.csv']\n",
    "test_file_list = ['data2020_test1.csv']\n",
    "for i in range(10):\n",
    "    clf = train_svm(file_list=file_list, cols=cols, scaledata=False)\n",
    "    test_svm(clf, test_file_list, cols=cols)"
   ]
  },
  {
   "cell_type": "code",
   "execution_count": 53,
   "id": "1e8130d7",
   "metadata": {},
   "outputs": [
    {
     "name": "stderr",
     "output_type": "stream",
     "text": [
      "\r",
      "0it [00:00, ?it/s]"
     ]
    },
    {
     "name": "stdout",
     "output_type": "stream",
     "text": [
      "Training data file: data2020_train1.csv\n"
     ]
    },
    {
     "name": "stderr",
     "output_type": "stream",
     "text": [
      "1it [00:00,  3.51it/s]\n"
     ]
    },
    {
     "name": "stdout",
     "output_type": "stream",
     "text": [
      "Finished training...\n",
      "Testing data file: data2020_test1.csv\n"
     ]
    },
    {
     "name": "stderr",
     "output_type": "stream",
     "text": [
      "\r",
      "0it [00:00, ?it/s]"
     ]
    },
    {
     "name": "stdout",
     "output_type": "stream",
     "text": [
      "Accuracy, Precision, Recall:  0.826 0.13 0.007\n",
      "Finished Testing...\n",
      "Training data file: data2020_train1.csv\n"
     ]
    },
    {
     "name": "stderr",
     "output_type": "stream",
     "text": [
      "1it [00:00,  3.58it/s]\n"
     ]
    },
    {
     "name": "stdout",
     "output_type": "stream",
     "text": [
      "Finished training...\n",
      "Testing data file: data2020_test1.csv\n"
     ]
    },
    {
     "name": "stderr",
     "output_type": "stream",
     "text": [
      "\r",
      "0it [00:00, ?it/s]"
     ]
    },
    {
     "name": "stdout",
     "output_type": "stream",
     "text": [
      "Accuracy, Precision, Recall:  0.754 0.124 0.076\n",
      "Finished Testing...\n",
      "Training data file: data2020_train1.csv\n"
     ]
    },
    {
     "name": "stderr",
     "output_type": "stream",
     "text": [
      "1it [00:00,  3.56it/s]\n"
     ]
    },
    {
     "name": "stdout",
     "output_type": "stream",
     "text": [
      "Finished training...\n",
      "Testing data file: data2020_test1.csv\n"
     ]
    },
    {
     "name": "stderr",
     "output_type": "stream",
     "text": [
      "\r",
      "0it [00:00, ?it/s]"
     ]
    },
    {
     "name": "stdout",
     "output_type": "stream",
     "text": [
      "Accuracy, Precision, Recall:  0.829 0.164 0.004\n",
      "Finished Testing...\n",
      "Training data file: data2020_train1.csv\n"
     ]
    },
    {
     "name": "stderr",
     "output_type": "stream",
     "text": [
      "1it [00:00,  3.36it/s]\n"
     ]
    },
    {
     "name": "stdout",
     "output_type": "stream",
     "text": [
      "Finished training...\n",
      "Testing data file: data2020_test1.csv\n"
     ]
    },
    {
     "name": "stderr",
     "output_type": "stream",
     "text": [
      "\r",
      "0it [00:00, ?it/s]"
     ]
    },
    {
     "name": "stdout",
     "output_type": "stream",
     "text": [
      "Accuracy, Precision, Recall:  0.828 0.13 0.004\n",
      "Finished Testing...\n",
      "Training data file: data2020_train1.csv\n"
     ]
    },
    {
     "name": "stderr",
     "output_type": "stream",
     "text": [
      "1it [00:00,  3.39it/s]\n"
     ]
    },
    {
     "name": "stdout",
     "output_type": "stream",
     "text": [
      "Finished training...\n",
      "Testing data file: data2020_test1.csv\n"
     ]
    },
    {
     "name": "stderr",
     "output_type": "stream",
     "text": [
      "\r",
      "0it [00:00, ?it/s]"
     ]
    },
    {
     "name": "stdout",
     "output_type": "stream",
     "text": [
      "Accuracy, Precision, Recall:  0.644 0.221 0.443\n",
      "Finished Testing...\n",
      "Training data file: data2020_train1.csv\n"
     ]
    },
    {
     "name": "stderr",
     "output_type": "stream",
     "text": [
      "1it [00:00,  3.42it/s]\n"
     ]
    },
    {
     "name": "stdout",
     "output_type": "stream",
     "text": [
      "Finished training...\n",
      "Testing data file: data2020_test1.csv\n"
     ]
    },
    {
     "name": "stderr",
     "output_type": "stream",
     "text": [
      "\r",
      "0it [00:00, ?it/s]"
     ]
    },
    {
     "name": "stdout",
     "output_type": "stream",
     "text": [
      "Accuracy, Precision, Recall:  0.83 0.137 0.002\n",
      "Finished Testing...\n",
      "Training data file: data2020_train1.csv\n"
     ]
    },
    {
     "name": "stderr",
     "output_type": "stream",
     "text": [
      "1it [00:00,  3.53it/s]\n"
     ]
    },
    {
     "name": "stdout",
     "output_type": "stream",
     "text": [
      "Finished training...\n",
      "Testing data file: data2020_test1.csv\n"
     ]
    },
    {
     "name": "stderr",
     "output_type": "stream",
     "text": [
      "\r",
      "0it [00:00, ?it/s]"
     ]
    },
    {
     "name": "stdout",
     "output_type": "stream",
     "text": [
      "Accuracy, Precision, Recall:  0.831 0.114 0.001\n",
      "Finished Testing...\n",
      "Training data file: data2020_train1.csv\n"
     ]
    },
    {
     "name": "stderr",
     "output_type": "stream",
     "text": [
      "1it [00:00,  3.34it/s]\n"
     ]
    },
    {
     "name": "stdout",
     "output_type": "stream",
     "text": [
      "Finished training...\n",
      "Testing data file: data2020_test1.csv\n"
     ]
    },
    {
     "name": "stderr",
     "output_type": "stream",
     "text": [
      "\r",
      "0it [00:00, ?it/s]"
     ]
    },
    {
     "name": "stdout",
     "output_type": "stream",
     "text": [
      "Accuracy, Precision, Recall:  0.779 0.124 0.051\n",
      "Finished Testing...\n",
      "Training data file: data2020_train1.csv\n"
     ]
    },
    {
     "name": "stderr",
     "output_type": "stream",
     "text": [
      "1it [00:00,  3.52it/s]\n"
     ]
    },
    {
     "name": "stdout",
     "output_type": "stream",
     "text": [
      "Finished training...\n",
      "Testing data file: data2020_test1.csv\n"
     ]
    },
    {
     "name": "stderr",
     "output_type": "stream",
     "text": [
      "\r",
      "0it [00:00, ?it/s]"
     ]
    },
    {
     "name": "stdout",
     "output_type": "stream",
     "text": [
      "Accuracy, Precision, Recall:  0.829 0.14 0.004\n",
      "Finished Testing...\n",
      "Training data file: data2020_train1.csv\n"
     ]
    },
    {
     "name": "stderr",
     "output_type": "stream",
     "text": [
      "1it [00:00,  3.49it/s]\n"
     ]
    },
    {
     "name": "stdout",
     "output_type": "stream",
     "text": [
      "Finished training...\n",
      "Testing data file: data2020_test1.csv\n",
      "Accuracy, Precision, Recall:  0.769 0.222 0.149\n",
      "Finished Testing...\n"
     ]
    }
   ],
   "source": [
    "for i in range(10):\n",
    "    clf = train_svm(file_list=file_list, cols=cols, scaledata=True)\n",
    "    test_svm(clf, test_file_list, cols=cols)"
   ]
  },
  {
   "cell_type": "code",
   "execution_count": 54,
   "id": "7a465fb1",
   "metadata": {},
   "outputs": [
    {
     "name": "stderr",
     "output_type": "stream",
     "text": [
      "1it [00:00, 10.13it/s]"
     ]
    },
    {
     "name": "stdout",
     "output_type": "stream",
     "text": [
      "Training data file: data2020_under.csv\n",
      "Finished training...\n",
      "Testing data file: data2020_test1.csv\n"
     ]
    },
    {
     "name": "stderr",
     "output_type": "stream",
     "text": [
      "\n",
      "1it [00:00, 10.55it/s]"
     ]
    },
    {
     "name": "stdout",
     "output_type": "stream",
     "text": [
      "Accuracy, Precision, Recall:  0.677 0.126 0.156\n",
      "Finished Testing...\n",
      "Training data file: data2020_under.csv\n",
      "Finished training...\n",
      "Testing data file: data2020_test1.csv\n"
     ]
    },
    {
     "name": "stderr",
     "output_type": "stream",
     "text": [
      "\n",
      "1it [00:00, 10.44it/s]"
     ]
    },
    {
     "name": "stdout",
     "output_type": "stream",
     "text": [
      "Accuracy, Precision, Recall:  0.191 0.168 0.962\n",
      "Finished Testing...\n",
      "Training data file: data2020_under.csv\n",
      "Finished training...\n",
      "Testing data file: data2020_test1.csv\n"
     ]
    },
    {
     "name": "stderr",
     "output_type": "stream",
     "text": [
      "\n",
      "1it [00:00,  9.73it/s]"
     ]
    },
    {
     "name": "stdout",
     "output_type": "stream",
     "text": [
      "Accuracy, Precision, Recall:  0.632 0.213 0.442\n",
      "Finished Testing...\n",
      "Training data file: data2020_under.csv\n",
      "Finished training...\n",
      "Testing data file: data2020_test1.csv\n"
     ]
    },
    {
     "name": "stderr",
     "output_type": "stream",
     "text": [
      "\n",
      "1it [00:00, 10.44it/s]"
     ]
    },
    {
     "name": "stdout",
     "output_type": "stream",
     "text": [
      "Accuracy, Precision, Recall:  0.386 0.191 0.818\n",
      "Finished Testing...\n",
      "Training data file: data2020_under.csv\n",
      "Finished training...\n",
      "Testing data file: data2020_test1.csv\n"
     ]
    },
    {
     "name": "stderr",
     "output_type": "stream",
     "text": [
      "\n",
      "1it [00:00, 10.55it/s]"
     ]
    },
    {
     "name": "stdout",
     "output_type": "stream",
     "text": [
      "Accuracy, Precision, Recall:  0.206 0.171 0.97\n",
      "Finished Testing...\n",
      "Training data file: data2020_under.csv\n",
      "Finished training...\n",
      "Testing data file: data2020_test1.csv\n"
     ]
    },
    {
     "name": "stderr",
     "output_type": "stream",
     "text": [
      "\n",
      "1it [00:00, 10.55it/s]"
     ]
    },
    {
     "name": "stdout",
     "output_type": "stream",
     "text": [
      "Accuracy, Precision, Recall:  0.296 0.175 0.855\n",
      "Finished Testing...\n",
      "Training data file: data2020_under.csv\n",
      "Finished training...\n",
      "Testing data file: data2020_test1.csv\n"
     ]
    },
    {
     "name": "stderr",
     "output_type": "stream",
     "text": [
      "\n",
      "1it [00:00,  9.83it/s]"
     ]
    },
    {
     "name": "stdout",
     "output_type": "stream",
     "text": [
      "Accuracy, Precision, Recall:  0.183 0.169 0.984\n",
      "Finished Testing...\n",
      "Training data file: data2020_under.csv\n",
      "Finished training...\n",
      "Testing data file: data2020_test1.csv\n"
     ]
    },
    {
     "name": "stderr",
     "output_type": "stream",
     "text": [
      "\n",
      "1it [00:00, 10.55it/s]"
     ]
    },
    {
     "name": "stdout",
     "output_type": "stream",
     "text": [
      "Accuracy, Precision, Recall:  0.177 0.168 0.988\n",
      "Finished Testing...\n",
      "Training data file: data2020_under.csv\n",
      "Finished training...\n",
      "Testing data file: data2020_test1.csv\n"
     ]
    },
    {
     "name": "stderr",
     "output_type": "stream",
     "text": [
      "\n",
      "1it [00:00,  9.64it/s]"
     ]
    },
    {
     "name": "stdout",
     "output_type": "stream",
     "text": [
      "Accuracy, Precision, Recall:  0.664 0.118 0.154\n",
      "Finished Testing...\n",
      "Training data file: data2020_under.csv\n",
      "Finished training...\n",
      "Testing data file: data2020_test1.csv\n"
     ]
    },
    {
     "name": "stderr",
     "output_type": "stream",
     "text": [
      "\n"
     ]
    },
    {
     "name": "stdout",
     "output_type": "stream",
     "text": [
      "Accuracy, Precision, Recall:  0.39 0.137 0.495\n",
      "Finished Testing...\n"
     ]
    }
   ],
   "source": [
    "file_list = ['data2020_under.csv']\n",
    "test_file_list = ['data2020_test1.csv']\n",
    "for i in range(10):\n",
    "    clf = train_svm(file_list=file_list, cols=cols, scaledata=False)\n",
    "    test_svm(clf, test_file_list, cols=cols)"
   ]
  },
  {
   "cell_type": "code",
   "execution_count": 57,
   "id": "6da84ea2",
   "metadata": {},
   "outputs": [
    {
     "name": "stderr",
     "output_type": "stream",
     "text": [
      "1it [00:00,  9.12it/s]"
     ]
    },
    {
     "name": "stdout",
     "output_type": "stream",
     "text": [
      "Training data file: data2020_under.csv\n",
      "Finished training...\n",
      "Testing data file: data2020_test1.csv\n"
     ]
    },
    {
     "name": "stderr",
     "output_type": "stream",
     "text": [
      "\n",
      "1it [00:00,  9.46it/s]"
     ]
    },
    {
     "name": "stdout",
     "output_type": "stream",
     "text": [
      "Accuracy, Precision, Recall:  0.17 0.168 0.999\n",
      "Finished Testing...\n",
      "Training data file: data2020_under.csv\n",
      "Finished training...\n",
      "Testing data file: data2020_test1.csv\n"
     ]
    },
    {
     "name": "stderr",
     "output_type": "stream",
     "text": [
      "\n",
      "1it [00:00,  9.55it/s]"
     ]
    },
    {
     "name": "stdout",
     "output_type": "stream",
     "text": [
      "Accuracy, Precision, Recall:  0.815 0.109 0.014\n",
      "Finished Testing...\n",
      "Training data file: data2020_under.csv\n",
      "Finished training...\n",
      "Testing data file: data2020_test1.csv\n"
     ]
    },
    {
     "name": "stderr",
     "output_type": "stream",
     "text": [
      "\n",
      "1it [00:00,  9.46it/s]"
     ]
    },
    {
     "name": "stdout",
     "output_type": "stream",
     "text": [
      "Accuracy, Precision, Recall:  0.173 0.168 0.995\n",
      "Finished Testing...\n",
      "Training data file: data2020_under.csv\n",
      "Finished training...\n",
      "Testing data file: data2020_test1.csv\n"
     ]
    },
    {
     "name": "stderr",
     "output_type": "stream",
     "text": [
      "\n",
      "1it [00:00,  8.50it/s]"
     ]
    },
    {
     "name": "stdout",
     "output_type": "stream",
     "text": [
      "Accuracy, Precision, Recall:  0.435 0.193 0.74\n",
      "Finished Testing...\n",
      "Training data file: data2020_under.csv\n",
      "Finished training...\n",
      "Testing data file: data2020_test1.csv\n"
     ]
    },
    {
     "name": "stderr",
     "output_type": "stream",
     "text": [
      "\n",
      "1it [00:00,  9.55it/s]"
     ]
    },
    {
     "name": "stdout",
     "output_type": "stream",
     "text": [
      "Accuracy, Precision, Recall:  0.23 0.173 0.943\n",
      "Finished Testing...\n",
      "Training data file: data2020_under.csv\n",
      "Finished training...\n",
      "Testing data file: data2020_test1.csv\n"
     ]
    },
    {
     "name": "stderr",
     "output_type": "stream",
     "text": [
      "\n",
      "1it [00:00,  8.80it/s]"
     ]
    },
    {
     "name": "stdout",
     "output_type": "stream",
     "text": [
      "Accuracy, Precision, Recall:  0.328 0.182 0.861\n",
      "Finished Testing...\n",
      "Training data file: data2020_under.csv\n",
      "Finished training...\n",
      "Testing data file: data2020_test1.csv\n"
     ]
    },
    {
     "name": "stderr",
     "output_type": "stream",
     "text": [
      "\n",
      "1it [00:00,  9.64it/s]"
     ]
    },
    {
     "name": "stdout",
     "output_type": "stream",
     "text": [
      "Accuracy, Precision, Recall:  0.21 0.171 0.957\n",
      "Finished Testing...\n",
      "Training data file: data2020_under.csv\n",
      "Finished training...\n",
      "Testing data file: data2020_test1.csv\n"
     ]
    },
    {
     "name": "stderr",
     "output_type": "stream",
     "text": [
      "\n",
      "1it [00:00,  8.64it/s]"
     ]
    },
    {
     "name": "stdout",
     "output_type": "stream",
     "text": [
      "Accuracy, Precision, Recall:  0.286 0.178 0.898\n",
      "Finished Testing...\n",
      "Training data file: data2020_under.csv\n",
      "Finished training...\n",
      "Testing data file: data2020_test1.csv\n"
     ]
    },
    {
     "name": "stderr",
     "output_type": "stream",
     "text": [
      "\n",
      "1it [00:00,  9.55it/s]"
     ]
    },
    {
     "name": "stdout",
     "output_type": "stream",
     "text": [
      "Accuracy, Precision, Recall:  0.183 0.169 0.984\n",
      "Finished Testing...\n",
      "Training data file: data2020_under.csv\n",
      "Finished training...\n",
      "Testing data file: data2020_test1.csv\n"
     ]
    },
    {
     "name": "stderr",
     "output_type": "stream",
     "text": [
      "\n"
     ]
    },
    {
     "name": "stdout",
     "output_type": "stream",
     "text": [
      "Accuracy, Precision, Recall:  0.296 0.178 0.884\n",
      "Finished Testing...\n"
     ]
    }
   ],
   "source": [
    "for i in range(10):\n",
    "    clf = train_svm(file_list=file_list, cols=cols, scaledata=True)\n",
    "    test_svm(clf, test_file_list, cols=cols)"
   ]
  },
  {
   "cell_type": "code",
   "execution_count": 6,
   "id": "79edcf3b",
   "metadata": {},
   "outputs": [],
   "source": [
    "#past 20 years exclude two financial crisis and covid\n",
    "file_list2 = ['data2000_train1.csv', 'data2001_train1.csv', 'data2002_train1.csv', 'data2003_train1.csv', \\\n",
    "              'data2004_train1.csv', 'data2005_train1.csv', 'data2006_train1.csv', 'data2007_train1.csv', \\\n",
    "              'data2010_train1.csv', 'data2011_train1.csv', 'data2012_train1.csv', 'data2013_train1.csv', \\\n",
    "              'data2014_train1.csv', 'data2015_train1.csv', 'data2016_train1.csv', 'data2017_train1.csv', \\\n",
    "              'data2018_train1.csv']\n",
    "test_file_list2 = ['data2000_test1.csv', 'data2001_test1.csv', 'data2002_test1.csv', 'data2003_test1.csv', \\\n",
    "              'data2004_test1.csv', 'data2005_test1.csv', 'data2006_test1.csv', 'data2007_test1.csv', \\\n",
    "              'data2010_test1.csv', 'data2011_test1.csv', 'data2012_test1.csv', 'data2013_test1.csv', \\\n",
    "              'data2014_test1.csv', 'data2015_test1.csv', 'data2016_test1.csv', 'data2017_test1.csv', \\\n",
    "              'data2018_test1.csv']\n",
    "#features and labels\n",
    "# cols = ['past_1y_mean', 'past_1y_vol', 'PAST_1y_p90',\\\n",
    "#             'leverage', 'leverage_mkt', 'bm', 'roe', 'lag_baspread', 'lag_liquidity', 'lag_size', 'labels']\n",
    "cols = ['PAST_1y_p90', 'leverage', 'leverage_mkt', 'bm', 'roe', 'lag_baspread', 'lag_liquidity', 'lag_size', 'labels']"
   ]
  },
  {
   "cell_type": "code",
   "execution_count": 16,
   "id": "53e2faba",
   "metadata": {},
   "outputs": [
    {
     "name": "stderr",
     "output_type": "stream",
     "text": [
      "\r",
      "0it [00:00, ?it/s]"
     ]
    },
    {
     "name": "stdout",
     "output_type": "stream",
     "text": [
      "Training data file: data2000_train1.csv\n"
     ]
    },
    {
     "name": "stderr",
     "output_type": "stream",
     "text": [
      "2it [00:01,  1.62it/s]\n"
     ]
    },
    {
     "name": "stdout",
     "output_type": "stream",
     "text": [
      "Finished training...\n",
      "Testing data file: data2000_test1.csv\n",
      "Accuracy, Precision, Recall:  0.871 0.105 0.02\n",
      "Finished Testing...\n"
     ]
    }
   ],
   "source": []
  },
  {
   "cell_type": "code",
   "execution_count": 29,
   "id": "a140f9ec",
   "metadata": {
    "scrolled": false
   },
   "outputs": [
    {
     "name": "stderr",
     "output_type": "stream",
     "text": [
      "7it [00:00, 62.67it/s]"
     ]
    },
    {
     "name": "stdout",
     "output_type": "stream",
     "text": [
      "Training data file: data2000_train1.csv\n"
     ]
    },
    {
     "name": "stderr",
     "output_type": "stream",
     "text": [
      "101it [00:01, 57.80it/s]\n",
      "7it [00:00, 62.67it/s]"
     ]
    },
    {
     "name": "stdout",
     "output_type": "stream",
     "text": [
      "Training data file: data2001_train1.csv\n"
     ]
    },
    {
     "name": "stderr",
     "output_type": "stream",
     "text": [
      "94it [00:01, 60.69it/s]\n",
      "7it [00:00, 61.57it/s]"
     ]
    },
    {
     "name": "stdout",
     "output_type": "stream",
     "text": [
      "Training data file: data2002_train1.csv\n"
     ]
    },
    {
     "name": "stderr",
     "output_type": "stream",
     "text": [
      "100it [00:01, 59.33it/s]\n",
      "7it [00:00, 58.98it/s]"
     ]
    },
    {
     "name": "stdout",
     "output_type": "stream",
     "text": [
      "Training data file: data2003_train1.csv\n"
     ]
    },
    {
     "name": "stderr",
     "output_type": "stream",
     "text": [
      "97it [00:01, 60.30it/s]\n",
      "7it [00:00, 61.57it/s]"
     ]
    },
    {
     "name": "stdout",
     "output_type": "stream",
     "text": [
      "Training data file: data2004_train1.csv\n"
     ]
    },
    {
     "name": "stderr",
     "output_type": "stream",
     "text": [
      "95it [00:01, 58.40it/s]\n",
      "6it [00:00, 56.76it/s]"
     ]
    },
    {
     "name": "stdout",
     "output_type": "stream",
     "text": [
      "Training data file: data2005_train1.csv\n"
     ]
    },
    {
     "name": "stderr",
     "output_type": "stream",
     "text": [
      "93it [00:01, 58.68it/s]\n",
      "7it [00:00, 61.57it/s]"
     ]
    },
    {
     "name": "stdout",
     "output_type": "stream",
     "text": [
      "Training data file: data2006_train1.csv\n"
     ]
    },
    {
     "name": "stderr",
     "output_type": "stream",
     "text": [
      "91it [00:01, 59.60it/s]\n",
      "7it [00:00, 62.11it/s]"
     ]
    },
    {
     "name": "stdout",
     "output_type": "stream",
     "text": [
      "Training data file: data2007_train1.csv\n"
     ]
    },
    {
     "name": "stderr",
     "output_type": "stream",
     "text": [
      "90it [00:01, 59.60it/s]\n",
      "7it [00:00, 61.03it/s]"
     ]
    },
    {
     "name": "stdout",
     "output_type": "stream",
     "text": [
      "Training data file: data2010_train1.csv\n"
     ]
    },
    {
     "name": "stderr",
     "output_type": "stream",
     "text": [
      "82it [00:01, 60.41it/s]\n",
      "12it [00:00, 57.33it/s]"
     ]
    },
    {
     "name": "stdout",
     "output_type": "stream",
     "text": [
      "Training data file: data2011_train1.csv\n"
     ]
    },
    {
     "name": "stderr",
     "output_type": "stream",
     "text": [
      "82it [00:01, 59.58it/s]\n",
      "7it [00:00, 62.11it/s]"
     ]
    },
    {
     "name": "stdout",
     "output_type": "stream",
     "text": [
      "Training data file: data2012_train1.csv\n"
     ]
    },
    {
     "name": "stderr",
     "output_type": "stream",
     "text": [
      "80it [00:01, 59.02it/s]\n",
      "7it [00:00, 62.67it/s]"
     ]
    },
    {
     "name": "stdout",
     "output_type": "stream",
     "text": [
      "Training data file: data2013_train1.csv\n"
     ]
    },
    {
     "name": "stderr",
     "output_type": "stream",
     "text": [
      "80it [00:01, 60.49it/s]\n",
      "7it [00:00, 61.57it/s]"
     ]
    },
    {
     "name": "stdout",
     "output_type": "stream",
     "text": [
      "Training data file: data2014_train1.csv\n"
     ]
    },
    {
     "name": "stderr",
     "output_type": "stream",
     "text": [
      "81it [00:01, 59.41it/s]\n",
      "6it [00:00, 58.98it/s]"
     ]
    },
    {
     "name": "stdout",
     "output_type": "stream",
     "text": [
      "Training data file: data2015_train1.csv\n"
     ]
    },
    {
     "name": "stderr",
     "output_type": "stream",
     "text": [
      "81it [00:01, 58.60it/s]\n",
      "6it [00:00, 58.98it/s]"
     ]
    },
    {
     "name": "stdout",
     "output_type": "stream",
     "text": [
      "Training data file: data2016_train1.csv\n"
     ]
    },
    {
     "name": "stderr",
     "output_type": "stream",
     "text": [
      "80it [00:01, 59.91it/s]\n",
      "6it [00:00, 57.85it/s]"
     ]
    },
    {
     "name": "stdout",
     "output_type": "stream",
     "text": [
      "Training data file: data2017_train1.csv\n"
     ]
    },
    {
     "name": "stderr",
     "output_type": "stream",
     "text": [
      "78it [00:01, 58.54it/s]\n",
      "7it [00:00, 61.03it/s]"
     ]
    },
    {
     "name": "stdout",
     "output_type": "stream",
     "text": [
      "Training data file: data2018_train1.csv\n"
     ]
    },
    {
     "name": "stderr",
     "output_type": "stream",
     "text": [
      "78it [00:01, 59.43it/s]\n"
     ]
    },
    {
     "name": "stdout",
     "output_type": "stream",
     "text": [
      "Finished training...\n",
      "Testing data file: data2000_test1.csv\n",
      "Accuracy, Precision, Recall:  0.047 0.006 0.006\n",
      "Testing data file: data2001_test1.csv\n",
      "Accuracy, Precision, Recall:  0.094 0.011 0.014\n",
      "Testing data file: data2002_test1.csv\n",
      "Accuracy, Precision, Recall:  0.142 0.017 0.019\n",
      "Testing data file: data2003_test1.csv\n",
      "Accuracy, Precision, Recall:  0.192 0.022 0.024\n",
      "Testing data file: data2004_test1.csv\n",
      "Accuracy, Precision, Recall:  0.242 0.027 0.029\n",
      "Testing data file: data2005_test1.csv\n",
      "Accuracy, Precision, Recall:  0.291 0.032 0.034\n",
      "Testing data file: data2006_test1.csv\n",
      "Accuracy, Precision, Recall:  0.34 0.039 0.039\n",
      "Testing data file: data2007_test1.csv\n",
      "Accuracy, Precision, Recall:  0.388 0.045 0.044\n",
      "Testing data file: data2010_test1.csv\n",
      "Accuracy, Precision, Recall:  0.438 0.049 0.048\n",
      "Testing data file: data2011_test1.csv\n",
      "Accuracy, Precision, Recall:  0.487 0.056 0.052\n",
      "Testing data file: data2012_test1.csv\n",
      "Accuracy, Precision, Recall:  0.538 0.061 0.057\n",
      "Testing data file: data2013_test1.csv\n",
      "Accuracy, Precision, Recall:  0.587 0.066 0.062\n",
      "Testing data file: data2014_test1.csv\n",
      "Accuracy, Precision, Recall:  0.636 0.072 0.067\n",
      "Testing data file: data2015_test1.csv\n",
      "Accuracy, Precision, Recall:  0.682 0.078 0.074\n",
      "Testing data file: data2016_test1.csv\n",
      "Accuracy, Precision, Recall:  0.729 0.084 0.08\n",
      "Testing data file: data2017_test1.csv\n",
      "Accuracy, Precision, Recall:  0.777 0.089 0.088\n",
      "Testing data file: data2018_test1.csv\n",
      "Accuracy, Precision, Recall:  0.823 0.096 0.096\n",
      "Finished Testing...\n"
     ]
    }
   ],
   "source": [
    "clf_f1 = train_svm(file_list=file_list2, cols=cols, scaledata=False)\n",
    "test_svm(clf_f1, test_file_list2, cols=cols)"
   ]
  },
  {
   "cell_type": "code",
   "execution_count": 30,
   "id": "50f0e94c",
   "metadata": {
    "scrolled": false
   },
   "outputs": [
    {
     "name": "stderr",
     "output_type": "stream",
     "text": [
      "6it [00:00, 53.71it/s]"
     ]
    },
    {
     "name": "stdout",
     "output_type": "stream",
     "text": [
      "Training data file: data2000_train1.csv\n"
     ]
    },
    {
     "name": "stderr",
     "output_type": "stream",
     "text": [
      "101it [00:01, 52.25it/s]\n",
      "6it [00:00, 54.20it/s]"
     ]
    },
    {
     "name": "stdout",
     "output_type": "stream",
     "text": [
      "Training data file: data2001_train1.csv\n"
     ]
    },
    {
     "name": "stderr",
     "output_type": "stream",
     "text": [
      "94it [00:01, 51.62it/s]\n",
      "6it [00:00, 53.71it/s]"
     ]
    },
    {
     "name": "stdout",
     "output_type": "stream",
     "text": [
      "Training data file: data2002_train1.csv\n"
     ]
    },
    {
     "name": "stderr",
     "output_type": "stream",
     "text": [
      "100it [00:01, 52.50it/s]\n",
      "6it [00:00, 54.20it/s]"
     ]
    },
    {
     "name": "stdout",
     "output_type": "stream",
     "text": [
      "Training data file: data2003_train1.csv\n"
     ]
    },
    {
     "name": "stderr",
     "output_type": "stream",
     "text": [
      "97it [00:01, 52.21it/s]\n",
      "6it [00:00, 50.55it/s]"
     ]
    },
    {
     "name": "stdout",
     "output_type": "stream",
     "text": [
      "Training data file: data2004_train1.csv\n"
     ]
    },
    {
     "name": "stderr",
     "output_type": "stream",
     "text": [
      "95it [00:01, 52.57it/s]\n",
      "6it [00:00, 51.42it/s]"
     ]
    },
    {
     "name": "stdout",
     "output_type": "stream",
     "text": [
      "Training data file: data2005_train1.csv\n"
     ]
    },
    {
     "name": "stderr",
     "output_type": "stream",
     "text": [
      "93it [00:01, 52.86it/s]\n",
      "6it [00:00, 51.42it/s]"
     ]
    },
    {
     "name": "stdout",
     "output_type": "stream",
     "text": [
      "Training data file: data2006_train1.csv\n"
     ]
    },
    {
     "name": "stderr",
     "output_type": "stream",
     "text": [
      "91it [00:01, 52.53it/s]\n",
      "6it [00:00, 54.20it/s]"
     ]
    },
    {
     "name": "stdout",
     "output_type": "stream",
     "text": [
      "Training data file: data2007_train1.csv\n"
     ]
    },
    {
     "name": "stderr",
     "output_type": "stream",
     "text": [
      "90it [00:01, 52.59it/s]\n",
      "5it [00:00, 45.99it/s]"
     ]
    },
    {
     "name": "stdout",
     "output_type": "stream",
     "text": [
      "Training data file: data2010_train1.csv\n"
     ]
    },
    {
     "name": "stderr",
     "output_type": "stream",
     "text": [
      "82it [00:01, 50.91it/s]\n",
      "6it [00:00, 53.71it/s]"
     ]
    },
    {
     "name": "stdout",
     "output_type": "stream",
     "text": [
      "Training data file: data2011_train1.csv\n"
     ]
    },
    {
     "name": "stderr",
     "output_type": "stream",
     "text": [
      "82it [00:01, 52.98it/s]\n",
      "6it [00:00, 51.86it/s]"
     ]
    },
    {
     "name": "stdout",
     "output_type": "stream",
     "text": [
      "Training data file: data2012_train1.csv\n"
     ]
    },
    {
     "name": "stderr",
     "output_type": "stream",
     "text": [
      "80it [00:01, 53.05it/s]\n",
      "6it [00:00, 54.20it/s]"
     ]
    },
    {
     "name": "stdout",
     "output_type": "stream",
     "text": [
      "Training data file: data2013_train1.csv\n"
     ]
    },
    {
     "name": "stderr",
     "output_type": "stream",
     "text": [
      "80it [00:01, 52.36it/s]\n",
      "6it [00:00, 54.20it/s]"
     ]
    },
    {
     "name": "stdout",
     "output_type": "stream",
     "text": [
      "Training data file: data2014_train1.csv\n"
     ]
    },
    {
     "name": "stderr",
     "output_type": "stream",
     "text": [
      "81it [00:01, 51.90it/s]\n",
      "6it [00:00, 52.77it/s]"
     ]
    },
    {
     "name": "stdout",
     "output_type": "stream",
     "text": [
      "Training data file: data2015_train1.csv\n"
     ]
    },
    {
     "name": "stderr",
     "output_type": "stream",
     "text": [
      "81it [00:01, 52.81it/s]\n",
      "6it [00:00, 51.42it/s]"
     ]
    },
    {
     "name": "stdout",
     "output_type": "stream",
     "text": [
      "Training data file: data2016_train1.csv\n"
     ]
    },
    {
     "name": "stderr",
     "output_type": "stream",
     "text": [
      "80it [00:01, 51.29it/s]\n",
      "6it [00:00, 54.20it/s]"
     ]
    },
    {
     "name": "stdout",
     "output_type": "stream",
     "text": [
      "Training data file: data2017_train1.csv\n"
     ]
    },
    {
     "name": "stderr",
     "output_type": "stream",
     "text": [
      "78it [00:01, 52.95it/s]\n",
      "6it [00:00, 53.24it/s]"
     ]
    },
    {
     "name": "stdout",
     "output_type": "stream",
     "text": [
      "Training data file: data2018_train1.csv\n"
     ]
    },
    {
     "name": "stderr",
     "output_type": "stream",
     "text": [
      "78it [00:01, 52.10it/s]\n"
     ]
    },
    {
     "name": "stdout",
     "output_type": "stream",
     "text": [
      "Finished training...\n",
      "Testing data file: data2000_test1.csv\n",
      "Accuracy, Precision, Recall:  0.045 0.008 0.013\n",
      "Testing data file: data2001_test1.csv\n",
      "Accuracy, Precision, Recall:  0.091 0.015 0.024\n",
      "Testing data file: data2002_test1.csv\n",
      "Accuracy, Precision, Recall:  0.138 0.021 0.033\n",
      "Testing data file: data2003_test1.csv\n",
      "Accuracy, Precision, Recall:  0.185 0.027 0.043\n",
      "Testing data file: data2004_test1.csv\n",
      "Accuracy, Precision, Recall:  0.231 0.033 0.054\n",
      "Testing data file: data2005_test1.csv\n",
      "Accuracy, Precision, Recall:  0.277 0.039 0.064\n",
      "Testing data file: data2006_test1.csv\n",
      "Accuracy, Precision, Recall:  0.322 0.046 0.077\n",
      "Testing data file: data2007_test1.csv\n",
      "Accuracy, Precision, Recall:  0.364 0.054 0.091\n",
      "Testing data file: data2010_test1.csv\n",
      "Accuracy, Precision, Recall:  0.409 0.06 0.104\n",
      "Testing data file: data2011_test1.csv\n",
      "Accuracy, Precision, Recall:  0.453 0.068 0.118\n",
      "Testing data file: data2012_test1.csv\n",
      "Accuracy, Precision, Recall:  0.5 0.073 0.13\n",
      "Testing data file: data2013_test1.csv\n",
      "Accuracy, Precision, Recall:  0.546 0.08 0.141\n",
      "Testing data file: data2014_test1.csv\n",
      "Accuracy, Precision, Recall:  0.591 0.087 0.154\n",
      "Testing data file: data2015_test1.csv\n",
      "Accuracy, Precision, Recall:  0.636 0.096 0.168\n",
      "Testing data file: data2016_test1.csv\n",
      "Accuracy, Precision, Recall:  0.68 0.103 0.181\n",
      "Testing data file: data2017_test1.csv\n",
      "Accuracy, Precision, Recall:  0.725 0.11 0.196\n",
      "Testing data file: data2018_test1.csv\n",
      "Accuracy, Precision, Recall:  0.768 0.117 0.209\n",
      "Finished Testing...\n"
     ]
    }
   ],
   "source": [
    "clf_f1t = train_svm(file_list=file_list2, cols=cols, scaledata=True)\n",
    "test_svm(clf_f1t, test_file_list2, cols=cols)"
   ]
  },
  {
   "cell_type": "code",
   "execution_count": 12,
   "id": "87a47892",
   "metadata": {},
   "outputs": [],
   "source": [
    "file_list3 = ['data2000_under.csv', 'data2001_under.csv', \\\n",
    "              'data2002_under.csv', 'data2003_under.csv', 'data2004_under.csv', 'data2005_under.csv', \\\n",
    "              'data2006_under.csv', 'data2007_under.csv', 'data2008_under.csv', 'data2011_under.csv', \\\n",
    "              'data2012_under.csv', 'data2013_under.csv', 'data2014_under.csv', 'data2015_under.csv', \\\n",
    "              'data2016_under.csv', 'data2017_under.csv', 'data2018_under.csv']\n",
    "test_file_list3 = ['data2000_test1.csv', 'data2001_test1.csv', 'data2002_test1.csv', 'data2003_test1.csv', \\\n",
    "              'data2004_test1.csv', 'data2005_test1.csv', 'data2006_test1.csv', 'data2007_test1.csv', \\\n",
    "              'data2008_test1.csv', 'data2011_test1.csv', 'data2012_test1.csv', 'data2013_test1.csv', \\\n",
    "              'data2014_test1.csv', 'data2015_test1.csv', 'data2016_test1.csv', 'data2017_test1.csv', \\\n",
    "              'data2018_test1.csv']\n",
    "#'data1997_under.csv', 'data1998_under.csv', 'data1999_under.csv', 'data2019_under.csv', 'data2020_under.csv'"
   ]
  },
  {
   "cell_type": "code",
   "execution_count": 13,
   "id": "c27ebdfa",
   "metadata": {
    "scrolled": false
   },
   "outputs": [
    {
     "name": "stderr",
     "output_type": "stream",
     "text": [
      "6it [00:00, 59.57it/s]"
     ]
    },
    {
     "name": "stdout",
     "output_type": "stream",
     "text": [
      "Training data file: data2000_under.csv\n"
     ]
    },
    {
     "name": "stderr",
     "output_type": "stream",
     "text": [
      "23it [00:00, 59.74it/s]\n",
      "7it [00:00, 63.23it/s]"
     ]
    },
    {
     "name": "stdout",
     "output_type": "stream",
     "text": [
      "Training data file: data2001_under.csv\n"
     ]
    },
    {
     "name": "stderr",
     "output_type": "stream",
     "text": [
      "17it [00:00, 62.21it/s]\n",
      "7it [00:00, 63.81it/s]"
     ]
    },
    {
     "name": "stdout",
     "output_type": "stream",
     "text": [
      "Training data file: data2002_under.csv\n"
     ]
    },
    {
     "name": "stderr",
     "output_type": "stream",
     "text": [
      "20it [00:00, 61.14it/s]\n",
      "7it [00:00, 62.67it/s]"
     ]
    },
    {
     "name": "stdout",
     "output_type": "stream",
     "text": [
      "Training data file: data2003_under.csv\n"
     ]
    },
    {
     "name": "stderr",
     "output_type": "stream",
     "text": [
      "16it [00:00, 61.94it/s]\n",
      "7it [00:00, 63.81it/s]"
     ]
    },
    {
     "name": "stdout",
     "output_type": "stream",
     "text": [
      "Training data file: data2004_under.csv\n"
     ]
    },
    {
     "name": "stderr",
     "output_type": "stream",
     "text": [
      "17it [00:00, 61.54it/s]\n",
      "7it [00:00, 60.51it/s]"
     ]
    },
    {
     "name": "stdout",
     "output_type": "stream",
     "text": [
      "Training data file: data2005_under.csv\n"
     ]
    },
    {
     "name": "stderr",
     "output_type": "stream",
     "text": [
      "18it [00:00, 61.60it/s]\n",
      "7it [00:00, 62.11it/s]"
     ]
    },
    {
     "name": "stdout",
     "output_type": "stream",
     "text": [
      "Training data file: data2006_under.csv\n"
     ]
    },
    {
     "name": "stderr",
     "output_type": "stream",
     "text": [
      "19it [00:00, 59.91it/s]\n",
      "6it [00:00, 58.41it/s]"
     ]
    },
    {
     "name": "stdout",
     "output_type": "stream",
     "text": [
      "Training data file: data2007_under.csv\n"
     ]
    },
    {
     "name": "stderr",
     "output_type": "stream",
     "text": [
      "21it [00:00, 58.82it/s]\n",
      "7it [00:00, 64.39it/s]"
     ]
    },
    {
     "name": "stdout",
     "output_type": "stream",
     "text": [
      "Training data file: data2008_under.csv\n"
     ]
    },
    {
     "name": "stderr",
     "output_type": "stream",
     "text": [
      "29it [00:00, 59.34it/s]\n",
      "7it [00:00, 62.67it/s]"
     ]
    },
    {
     "name": "stdout",
     "output_type": "stream",
     "text": [
      "Training data file: data2011_under.csv\n"
     ]
    },
    {
     "name": "stderr",
     "output_type": "stream",
     "text": [
      "19it [00:00, 62.46it/s]\n",
      "12it [00:00, 64.34it/s]"
     ]
    },
    {
     "name": "stdout",
     "output_type": "stream",
     "text": [
      "Training data file: data2012_under.csv\n"
     ]
    },
    {
     "name": "stderr",
     "output_type": "stream",
     "text": [
      "\n",
      "7it [00:00, 63.23it/s]"
     ]
    },
    {
     "name": "stdout",
     "output_type": "stream",
     "text": [
      "Training data file: data2013_under.csv\n"
     ]
    },
    {
     "name": "stderr",
     "output_type": "stream",
     "text": [
      "15it [00:00, 62.15it/s]\n",
      "6it [00:00, 57.30it/s]"
     ]
    },
    {
     "name": "stdout",
     "output_type": "stream",
     "text": [
      "Training data file: data2014_under.csv\n"
     ]
    },
    {
     "name": "stderr",
     "output_type": "stream",
     "text": [
      "16it [00:00, 58.55it/s]\n",
      "7it [00:00, 64.99it/s]"
     ]
    },
    {
     "name": "stdout",
     "output_type": "stream",
     "text": [
      "Training data file: data2015_under.csv\n"
     ]
    },
    {
     "name": "stderr",
     "output_type": "stream",
     "text": [
      "19it [00:00, 64.80it/s]\n",
      "7it [00:00, 62.11it/s]"
     ]
    },
    {
     "name": "stdout",
     "output_type": "stream",
     "text": [
      "Training data file: data2016_under.csv\n"
     ]
    },
    {
     "name": "stderr",
     "output_type": "stream",
     "text": [
      "17it [00:00, 57.98it/s]\n",
      "7it [00:00, 61.57it/s]"
     ]
    },
    {
     "name": "stdout",
     "output_type": "stream",
     "text": [
      "Training data file: data2017_under.csv\n"
     ]
    },
    {
     "name": "stderr",
     "output_type": "stream",
     "text": [
      "14it [00:00, 58.98it/s]\n",
      "12it [00:00, 57.07it/s]"
     ]
    },
    {
     "name": "stdout",
     "output_type": "stream",
     "text": [
      "Training data file: data2018_under.csv\n"
     ]
    },
    {
     "name": "stderr",
     "output_type": "stream",
     "text": [
      "18it [00:00, 58.98it/s]\n"
     ]
    },
    {
     "name": "stdout",
     "output_type": "stream",
     "text": [
      "Finished training...\n",
      "Testing data file: data2000_test1.csv\n",
      "Accuracy, Precision, Recall:  0.008 0.007 0.058\n",
      "Testing data file: data2001_test1.csv\n",
      "Accuracy, Precision, Recall:  0.015 0.012 0.114\n",
      "Testing data file: data2002_test1.csv\n",
      "Accuracy, Precision, Recall:  0.022 0.018 0.17\n",
      "Testing data file: data2003_test1.csv\n",
      "Accuracy, Precision, Recall:  0.029 0.023 0.227\n",
      "Testing data file: data2004_test1.csv\n",
      "Accuracy, Precision, Recall:  0.036 0.028 0.284\n",
      "Testing data file: data2005_test1.csv\n",
      "Accuracy, Precision, Recall:  0.042 0.033 0.341\n",
      "Testing data file: data2006_test1.csv\n",
      "Accuracy, Precision, Recall:  0.05 0.039 0.398\n",
      "Testing data file: data2007_test1.csv\n",
      "Accuracy, Precision, Recall:  0.057 0.046 0.456\n",
      "Testing data file: data2008_test1.csv\n",
      "Accuracy, Precision, Recall:  0.068 0.056 0.513\n",
      "Testing data file: data2011_test1.csv\n",
      "Accuracy, Precision, Recall:  0.076 0.062 0.57\n",
      "Testing data file: data2012_test1.csv\n",
      "Accuracy, Precision, Recall:  0.083 0.067 0.626\n",
      "Testing data file: data2013_test1.csv\n",
      "Accuracy, Precision, Recall:  0.09 0.072 0.682\n",
      "Testing data file: data2014_test1.csv\n",
      "Accuracy, Precision, Recall:  0.097 0.078 0.739\n",
      "Testing data file: data2015_test1.csv\n",
      "Accuracy, Precision, Recall:  0.105 0.085 0.796\n",
      "Testing data file: data2016_test1.csv\n",
      "Accuracy, Precision, Recall:  0.113 0.091 0.853\n",
      "Testing data file: data2017_test1.csv\n",
      "Accuracy, Precision, Recall:  0.12 0.096 0.91\n",
      "Testing data file: data2018_test1.csv\n",
      "Accuracy, Precision, Recall:  0.127 0.103 0.967\n",
      "Finished Testing...\n"
     ]
    }
   ],
   "source": [
    "clf_u = train_svm(file_list=file_list3, cols=cols, scaledata=False)\n",
    "test_svm(clf_u, test_file_list3, cols=cols)"
   ]
  },
  {
   "cell_type": "code",
   "execution_count": 14,
   "id": "9ee9788d",
   "metadata": {
    "scrolled": false
   },
   "outputs": [
    {
     "name": "stderr",
     "output_type": "stream",
     "text": [
      "6it [00:00, 55.19it/s]"
     ]
    },
    {
     "name": "stdout",
     "output_type": "stream",
     "text": [
      "Training data file: data2000_under.csv\n"
     ]
    },
    {
     "name": "stderr",
     "output_type": "stream",
     "text": [
      "23it [00:00, 53.63it/s]\n",
      "6it [00:00, 55.70it/s]"
     ]
    },
    {
     "name": "stdout",
     "output_type": "stream",
     "text": [
      "Training data file: data2001_under.csv\n"
     ]
    },
    {
     "name": "stderr",
     "output_type": "stream",
     "text": [
      "17it [00:00, 54.81it/s]\n",
      "6it [00:00, 56.23it/s]"
     ]
    },
    {
     "name": "stdout",
     "output_type": "stream",
     "text": [
      "Training data file: data2002_under.csv\n"
     ]
    },
    {
     "name": "stderr",
     "output_type": "stream",
     "text": [
      "20it [00:00, 54.64it/s]\n",
      "6it [00:00, 53.71it/s]"
     ]
    },
    {
     "name": "stdout",
     "output_type": "stream",
     "text": [
      "Training data file: data2003_under.csv\n"
     ]
    },
    {
     "name": "stderr",
     "output_type": "stream",
     "text": [
      "16it [00:00, 52.43it/s]\n",
      "6it [00:00, 52.77it/s]"
     ]
    },
    {
     "name": "stdout",
     "output_type": "stream",
     "text": [
      "Training data file: data2004_under.csv\n"
     ]
    },
    {
     "name": "stderr",
     "output_type": "stream",
     "text": [
      "17it [00:00, 49.99it/s]\n",
      "6it [00:00, 52.31it/s]"
     ]
    },
    {
     "name": "stdout",
     "output_type": "stream",
     "text": [
      "Training data file: data2005_under.csv\n"
     ]
    },
    {
     "name": "stderr",
     "output_type": "stream",
     "text": [
      "18it [00:00, 53.24it/s]\n",
      "6it [00:00, 55.70it/s]"
     ]
    },
    {
     "name": "stdout",
     "output_type": "stream",
     "text": [
      "Training data file: data2006_under.csv\n"
     ]
    },
    {
     "name": "stderr",
     "output_type": "stream",
     "text": [
      "19it [00:00, 55.22it/s]\n",
      "6it [00:00, 50.55it/s]"
     ]
    },
    {
     "name": "stdout",
     "output_type": "stream",
     "text": [
      "Training data file: data2007_under.csv\n"
     ]
    },
    {
     "name": "stderr",
     "output_type": "stream",
     "text": [
      "21it [00:00, 52.12it/s]\n",
      "6it [00:00, 56.22it/s]"
     ]
    },
    {
     "name": "stdout",
     "output_type": "stream",
     "text": [
      "Training data file: data2008_under.csv\n"
     ]
    },
    {
     "name": "stderr",
     "output_type": "stream",
     "text": [
      "29it [00:00, 55.28it/s]\n",
      "6it [00:00, 54.69it/s]"
     ]
    },
    {
     "name": "stdout",
     "output_type": "stream",
     "text": [
      "Training data file: data2011_under.csv\n"
     ]
    },
    {
     "name": "stderr",
     "output_type": "stream",
     "text": [
      "19it [00:00, 50.53it/s]\n",
      "6it [00:00, 54.69it/s]"
     ]
    },
    {
     "name": "stdout",
     "output_type": "stream",
     "text": [
      "Training data file: data2012_under.csv\n"
     ]
    },
    {
     "name": "stderr",
     "output_type": "stream",
     "text": [
      "12it [00:00, 54.94it/s]\n",
      "6it [00:00, 55.19it/s]"
     ]
    },
    {
     "name": "stdout",
     "output_type": "stream",
     "text": [
      "Training data file: data2013_under.csv\n"
     ]
    },
    {
     "name": "stderr",
     "output_type": "stream",
     "text": [
      "15it [00:00, 54.89it/s]\n",
      "6it [00:00, 54.20it/s]"
     ]
    },
    {
     "name": "stdout",
     "output_type": "stream",
     "text": [
      "Training data file: data2014_under.csv\n"
     ]
    },
    {
     "name": "stderr",
     "output_type": "stream",
     "text": [
      "16it [00:00, 51.92it/s]\n",
      "6it [00:00, 52.31it/s]"
     ]
    },
    {
     "name": "stdout",
     "output_type": "stream",
     "text": [
      "Training data file: data2015_under.csv\n"
     ]
    },
    {
     "name": "stderr",
     "output_type": "stream",
     "text": [
      "19it [00:00, 53.82it/s]\n",
      "6it [00:00, 55.70it/s]"
     ]
    },
    {
     "name": "stdout",
     "output_type": "stream",
     "text": [
      "Training data file: data2016_under.csv\n"
     ]
    },
    {
     "name": "stderr",
     "output_type": "stream",
     "text": [
      "17it [00:00, 52.94it/s]\n",
      "11it [00:00, 52.31it/s]"
     ]
    },
    {
     "name": "stdout",
     "output_type": "stream",
     "text": [
      "Training data file: data2017_under.csv\n"
     ]
    },
    {
     "name": "stderr",
     "output_type": "stream",
     "text": [
      "14it [00:00, 51.99it/s]\n",
      "6it [00:00, 51.86it/s]"
     ]
    },
    {
     "name": "stdout",
     "output_type": "stream",
     "text": [
      "Training data file: data2018_under.csv\n"
     ]
    },
    {
     "name": "stderr",
     "output_type": "stream",
     "text": [
      "18it [00:00, 52.31it/s]\n"
     ]
    },
    {
     "name": "stdout",
     "output_type": "stream",
     "text": [
      "Finished training...\n",
      "Testing data file: data2000_test1.csv\n",
      "Accuracy, Precision, Recall:  0.008 0.007 0.058\n",
      "Testing data file: data2001_test1.csv\n",
      "Accuracy, Precision, Recall:  0.015 0.012 0.114\n",
      "Testing data file: data2002_test1.csv\n",
      "Accuracy, Precision, Recall:  0.023 0.018 0.17\n",
      "Testing data file: data2003_test1.csv\n",
      "Accuracy, Precision, Recall:  0.03 0.023 0.227\n",
      "Testing data file: data2004_test1.csv\n",
      "Accuracy, Precision, Recall:  0.036 0.028 0.284\n",
      "Testing data file: data2005_test1.csv\n",
      "Accuracy, Precision, Recall:  0.043 0.034 0.341\n",
      "Testing data file: data2006_test1.csv\n",
      "Accuracy, Precision, Recall:  0.05 0.039 0.399\n",
      "Testing data file: data2007_test1.csv\n",
      "Accuracy, Precision, Recall:  0.057 0.046 0.457\n",
      "Testing data file: data2008_test1.csv\n",
      "Accuracy, Precision, Recall:  0.068 0.056 0.514\n",
      "Testing data file: data2011_test1.csv\n",
      "Accuracy, Precision, Recall:  0.076 0.063 0.572\n",
      "Testing data file: data2012_test1.csv\n",
      "Accuracy, Precision, Recall:  0.082 0.067 0.628\n",
      "Testing data file: data2013_test1.csv\n",
      "Accuracy, Precision, Recall:  0.089 0.072 0.685\n",
      "Testing data file: data2014_test1.csv\n",
      "Accuracy, Precision, Recall:  0.096 0.078 0.742\n",
      "Testing data file: data2015_test1.csv\n",
      "Accuracy, Precision, Recall:  0.104 0.085 0.8\n",
      "Testing data file: data2016_test1.csv\n",
      "Accuracy, Precision, Recall:  0.111 0.091 0.857\n",
      "Testing data file: data2017_test1.csv\n",
      "Accuracy, Precision, Recall:  0.118 0.096 0.915\n",
      "Testing data file: data2018_test1.csv\n",
      "Accuracy, Precision, Recall:  0.125 0.103 0.972\n",
      "Finished Testing...\n"
     ]
    }
   ],
   "source": [
    "clf_ut = train_svm(file_list=file_list3, cols=cols, scaledata=True)\n",
    "test_svm(clf_ut, test_file_list3, cols=cols)"
   ]
  },
  {
   "cell_type": "code",
   "execution_count": 64,
   "id": "b80fb1e0",
   "metadata": {},
   "outputs": [],
   "source": [
    "#train individual year with undersampled data\n",
    "file_list3 = ['data2000_under.csv', 'data2001_under.csv', 'data2002_under.csv', 'data2003_under.csv', \\\n",
    "                  'data2004_under.csv', 'data2005_under.csv', 'data2006_under.csv', 'data2007_under.csv', \\\n",
    "                  'data2008_under.csv', 'data2009_under.csv', 'data2010_under.csv', 'data2011_under.csv', \\\n",
    "                  'data2012_under.csv', 'data2013_under.csv', 'data2014_under.csv', 'data2015_under.csv', \\\n",
    "                  'data2016_under.csv', 'data2017_under.csv', 'data2018_under.csv', 'data2019_under.csv', \\\n",
    "                  'data2020_under.csv']\n",
    "test_file_list3 = ['data2000_test1.csv', 'data2001_test1.csv', 'data2002_test1.csv', 'data2003_test1.csv', \\\n",
    "                          'data2004_test1.csv', 'data2005_test1.csv', 'data2006_test1.csv', 'data2007_test1.csv', \\\n",
    "                          'data2008_test1.csv', 'data2009_test1.csv', 'data2010_test1.csv', 'data2011_test1.csv', \\\n",
    "                          'data2012_test1.csv', 'data2013_test1.csv', 'data2014_test1.csv', 'data2015_test1.csv', \\\n",
    "                          'data2016_test1.csv', 'data2017_test1.csv', 'data2018_test1.csv', 'data2019_test1.csv', \\\n",
    "                          'data2020_test1.csv']"
   ]
  },
  {
   "cell_type": "code",
   "execution_count": 65,
   "id": "4d561d64",
   "metadata": {
    "scrolled": false
   },
   "outputs": [
    {
     "name": "stderr",
     "output_type": "stream",
     "text": [
      "\r",
      "0it [00:00, ?it/s]"
     ]
    },
    {
     "name": "stdout",
     "output_type": "stream",
     "text": [
      "Training data file: data2000_under.csv\n"
     ]
    },
    {
     "name": "stderr",
     "output_type": "stream",
     "text": [
      "1it [00:00,  3.32it/s]\n"
     ]
    },
    {
     "name": "stdout",
     "output_type": "stream",
     "text": [
      "Finished training...\n",
      "Testing data file: data2000_test1.csv\n"
     ]
    },
    {
     "name": "stderr",
     "output_type": "stream",
     "text": [
      "\r",
      "0it [00:00, ?it/s]"
     ]
    },
    {
     "name": "stdout",
     "output_type": "stream",
     "text": [
      "Accuracy, Precision, Recall:  0.114 0.112 0.998\n",
      "Finished Testing...\n",
      "Training data file: data2001_under.csv\n"
     ]
    },
    {
     "name": "stderr",
     "output_type": "stream",
     "text": [
      "1it [00:00,  4.44it/s]\n"
     ]
    },
    {
     "name": "stdout",
     "output_type": "stream",
     "text": [
      "Finished training...\n",
      "Testing data file: data2001_test1.csv\n"
     ]
    },
    {
     "name": "stderr",
     "output_type": "stream",
     "text": [
      "\r",
      "0it [00:00, ?it/s]"
     ]
    },
    {
     "name": "stdout",
     "output_type": "stream",
     "text": [
      "Accuracy, Precision, Recall:  0.862 0.119 0.081\n",
      "Finished Testing...\n",
      "Training data file: data2002_under.csv\n"
     ]
    },
    {
     "name": "stderr",
     "output_type": "stream",
     "text": [
      "1it [00:00,  3.73it/s]\n"
     ]
    },
    {
     "name": "stdout",
     "output_type": "stream",
     "text": [
      "Finished training...\n",
      "Testing data file: data2002_test1.csv\n"
     ]
    },
    {
     "name": "stderr",
     "output_type": "stream",
     "text": [
      "1it [00:00,  4.80it/s]"
     ]
    },
    {
     "name": "stdout",
     "output_type": "stream",
     "text": [
      "Accuracy, Precision, Recall:  0.858 0.121 0.066\n",
      "Finished Testing...\n",
      "Training data file: data2003_under.csv\n"
     ]
    },
    {
     "name": "stderr",
     "output_type": "stream",
     "text": [
      "1it [00:00,  4.75it/s]\n"
     ]
    },
    {
     "name": "stdout",
     "output_type": "stream",
     "text": [
      "Finished training...\n",
      "Testing data file: data2003_test1.csv\n"
     ]
    },
    {
     "name": "stderr",
     "output_type": "stream",
     "text": [
      "\r",
      "0it [00:00, ?it/s]"
     ]
    },
    {
     "name": "stdout",
     "output_type": "stream",
     "text": [
      "Accuracy, Precision, Recall:  0.815 0.095 0.146\n",
      "Finished Testing...\n",
      "Training data file: data2004_under.csv\n"
     ]
    },
    {
     "name": "stderr",
     "output_type": "stream",
     "text": [
      "1it [00:00,  4.46it/s]\n"
     ]
    },
    {
     "name": "stdout",
     "output_type": "stream",
     "text": [
      "Finished training...\n",
      "Testing data file: data2004_test1.csv\n"
     ]
    },
    {
     "name": "stderr",
     "output_type": "stream",
     "text": [
      "\r",
      "0it [00:00, ?it/s]"
     ]
    },
    {
     "name": "stdout",
     "output_type": "stream",
     "text": [
      "Accuracy, Precision, Recall:  0.091 0.089 0.998\n",
      "Finished Testing...\n",
      "Training data file: data2005_under.csv\n"
     ]
    },
    {
     "name": "stderr",
     "output_type": "stream",
     "text": [
      "1it [00:00,  4.27it/s]\n"
     ]
    },
    {
     "name": "stdout",
     "output_type": "stream",
     "text": [
      "Finished training...\n",
      "Testing data file: data2005_test1.csv\n"
     ]
    },
    {
     "name": "stderr",
     "output_type": "stream",
     "text": [
      "\r",
      "0it [00:00, ?it/s]"
     ]
    },
    {
     "name": "stdout",
     "output_type": "stream",
     "text": [
      "Accuracy, Precision, Recall:  0.103 0.096 0.992\n",
      "Finished Testing...\n",
      "Training data file: data2006_under.csv\n"
     ]
    },
    {
     "name": "stderr",
     "output_type": "stream",
     "text": [
      "1it [00:00,  3.92it/s]\n"
     ]
    },
    {
     "name": "stdout",
     "output_type": "stream",
     "text": [
      "Finished training...\n",
      "Testing data file: data2006_test1.csv\n"
     ]
    },
    {
     "name": "stderr",
     "output_type": "stream",
     "text": [
      "\r",
      "0it [00:00, ?it/s]"
     ]
    },
    {
     "name": "stdout",
     "output_type": "stream",
     "text": [
      "Accuracy, Precision, Recall:  0.731 0.117 0.254\n",
      "Finished Testing...\n",
      "Training data file: data2007_under.csv\n"
     ]
    },
    {
     "name": "stderr",
     "output_type": "stream",
     "text": [
      "1it [00:00,  3.49it/s]\n"
     ]
    },
    {
     "name": "stdout",
     "output_type": "stream",
     "text": [
      "Finished training...\n",
      "Testing data file: data2007_test1.csv\n"
     ]
    },
    {
     "name": "stderr",
     "output_type": "stream",
     "text": [
      "\r",
      "0it [00:00, ?it/s]"
     ]
    },
    {
     "name": "stdout",
     "output_type": "stream",
     "text": [
      "Accuracy, Precision, Recall:  0.779 0.142 0.181\n",
      "Finished Testing...\n",
      "Training data file: data2008_under.csv\n"
     ]
    },
    {
     "name": "stderr",
     "output_type": "stream",
     "text": [
      "1it [00:00,  2.54it/s]\n"
     ]
    },
    {
     "name": "stdout",
     "output_type": "stream",
     "text": [
      "Finished training...\n",
      "Testing data file: data2008_test1.csv\n"
     ]
    },
    {
     "name": "stderr",
     "output_type": "stream",
     "text": [
      "1it [00:00,  5.33it/s]"
     ]
    },
    {
     "name": "stdout",
     "output_type": "stream",
     "text": [
      "Accuracy, Precision, Recall:  0.305 0.163 0.808\n",
      "Finished Testing...\n",
      "Training data file: data2009_under.csv\n"
     ]
    },
    {
     "name": "stderr",
     "output_type": "stream",
     "text": [
      "1it [00:00,  5.28it/s]\n"
     ]
    },
    {
     "name": "stdout",
     "output_type": "stream",
     "text": [
      "Finished training...\n",
      "Testing data file: data2009_test1.csv\n"
     ]
    },
    {
     "name": "stderr",
     "output_type": "stream",
     "text": [
      "1it [00:00,  5.80it/s]"
     ]
    },
    {
     "name": "stdout",
     "output_type": "stream",
     "text": [
      "Accuracy, Precision, Recall:  0.362 0.081 0.638\n",
      "Finished Testing...\n",
      "Training data file: data2010_under.csv\n"
     ]
    },
    {
     "name": "stderr",
     "output_type": "stream",
     "text": [
      "1it [00:00,  5.76it/s]\n"
     ]
    },
    {
     "name": "stdout",
     "output_type": "stream",
     "text": [
      "Finished training...\n",
      "Testing data file: data2010_test1.csv\n"
     ]
    },
    {
     "name": "stderr",
     "output_type": "stream",
     "text": [
      "\r",
      "0it [00:00, ?it/s]"
     ]
    },
    {
     "name": "stdout",
     "output_type": "stream",
     "text": [
      "Accuracy, Precision, Recall:  0.823 0.096 0.147\n",
      "Finished Testing...\n",
      "Training data file: data2011_under.csv\n"
     ]
    },
    {
     "name": "stderr",
     "output_type": "stream",
     "text": [
      "1it [00:00,  3.96it/s]\n"
     ]
    },
    {
     "name": "stdout",
     "output_type": "stream",
     "text": [
      "Finished training...\n",
      "Testing data file: data2011_test1.csv\n"
     ]
    },
    {
     "name": "stderr",
     "output_type": "stream",
     "text": [
      "1it [00:00,  6.15it/s]"
     ]
    },
    {
     "name": "stdout",
     "output_type": "stream",
     "text": [
      "Accuracy, Precision, Recall:  0.152 0.116 0.956\n",
      "Finished Testing...\n",
      "Training data file: data2012_under.csv\n",
      "Finished training...\n",
      "Testing data file: data2012_test1.csv\n"
     ]
    },
    {
     "name": "stderr",
     "output_type": "stream",
     "text": [
      "\n",
      "1it [00:00,  5.12it/s]"
     ]
    },
    {
     "name": "stdout",
     "output_type": "stream",
     "text": [
      "Accuracy, Precision, Recall:  0.561 0.079 0.462\n",
      "Finished Testing...\n",
      "Training data file: data2013_under.csv\n"
     ]
    },
    {
     "name": "stderr",
     "output_type": "stream",
     "text": [
      "1it [00:00,  5.09it/s]\n"
     ]
    },
    {
     "name": "stdout",
     "output_type": "stream",
     "text": [
      "Finished training...\n",
      "Testing data file: data2013_test1.csv\n"
     ]
    },
    {
     "name": "stderr",
     "output_type": "stream",
     "text": [
      "\r",
      "0it [00:00, ?it/s]"
     ]
    },
    {
     "name": "stdout",
     "output_type": "stream",
     "text": [
      "Accuracy, Precision, Recall:  0.266 0.094 0.79\n",
      "Finished Testing...\n",
      "Training data file: data2014_under.csv\n"
     ]
    },
    {
     "name": "stderr",
     "output_type": "stream",
     "text": [
      "1it [00:00,  4.64it/s]\n"
     ]
    },
    {
     "name": "stdout",
     "output_type": "stream",
     "text": [
      "Finished training...\n",
      "Testing data file: data2014_test1.csv\n"
     ]
    },
    {
     "name": "stderr",
     "output_type": "stream",
     "text": [
      "\r",
      "0it [00:00, ?it/s]"
     ]
    },
    {
     "name": "stdout",
     "output_type": "stream",
     "text": [
      "Accuracy, Precision, Recall:  0.186 0.102 0.909\n",
      "Finished Testing...\n",
      "Training data file: data2015_under.csv\n"
     ]
    },
    {
     "name": "stderr",
     "output_type": "stream",
     "text": [
      "1it [00:00,  4.13it/s]\n"
     ]
    },
    {
     "name": "stdout",
     "output_type": "stream",
     "text": [
      "Finished training...\n",
      "Testing data file: data2015_test1.csv\n"
     ]
    },
    {
     "name": "stderr",
     "output_type": "stream",
     "text": [
      "\r",
      "0it [00:00, ?it/s]"
     ]
    },
    {
     "name": "stdout",
     "output_type": "stream",
     "text": [
      "Accuracy, Precision, Recall:  0.167 0.114 0.945\n",
      "Finished Testing...\n",
      "Training data file: data2016_under.csv\n"
     ]
    },
    {
     "name": "stderr",
     "output_type": "stream",
     "text": [
      "1it [00:00,  4.48it/s]\n"
     ]
    },
    {
     "name": "stdout",
     "output_type": "stream",
     "text": [
      "Finished training...\n",
      "Testing data file: data2016_test1.csv\n"
     ]
    },
    {
     "name": "stderr",
     "output_type": "stream",
     "text": [
      "1it [00:00,  5.42it/s]"
     ]
    },
    {
     "name": "stdout",
     "output_type": "stream",
     "text": [
      "Accuracy, Precision, Recall:  0.605 0.123 0.451\n",
      "Finished Testing...\n",
      "Training data file: data2017_under.csv\n"
     ]
    },
    {
     "name": "stderr",
     "output_type": "stream",
     "text": [
      "1it [00:00,  5.39it/s]\n"
     ]
    },
    {
     "name": "stdout",
     "output_type": "stream",
     "text": [
      "Finished training...\n",
      "Testing data file: data2017_test1.csv\n"
     ]
    },
    {
     "name": "stderr",
     "output_type": "stream",
     "text": [
      "\r",
      "0it [00:00, ?it/s]"
     ]
    },
    {
     "name": "stdout",
     "output_type": "stream",
     "text": [
      "Accuracy, Precision, Recall:  0.338 0.092 0.741\n",
      "Finished Testing...\n",
      "Training data file: data2018_under.csv\n"
     ]
    },
    {
     "name": "stderr",
     "output_type": "stream",
     "text": [
      "1it [00:00,  4.30it/s]\n"
     ]
    },
    {
     "name": "stdout",
     "output_type": "stream",
     "text": [
      "Finished training...\n",
      "Testing data file: data2018_test1.csv\n"
     ]
    },
    {
     "name": "stderr",
     "output_type": "stream",
     "text": [
      "\r",
      "0it [00:00, ?it/s]"
     ]
    },
    {
     "name": "stdout",
     "output_type": "stream",
     "text": [
      "Accuracy, Precision, Recall:  0.157 0.112 0.944\n",
      "Finished Testing...\n",
      "Training data file: data2019_under.csv\n"
     ]
    },
    {
     "name": "stderr",
     "output_type": "stream",
     "text": [
      "1it [00:00,  4.58it/s]\n"
     ]
    },
    {
     "name": "stdout",
     "output_type": "stream",
     "text": [
      "Finished training...\n",
      "Testing data file: data2019_test1.csv\n"
     ]
    },
    {
     "name": "stderr",
     "output_type": "stream",
     "text": [
      "1it [00:00,  9.64it/s]"
     ]
    },
    {
     "name": "stdout",
     "output_type": "stream",
     "text": [
      "Accuracy, Precision, Recall:  0.13 0.103 0.968\n",
      "Finished Testing...\n",
      "Training data file: data2020_under.csv\n",
      "Finished training...\n",
      "Testing data file: data2020_test1.csv\n"
     ]
    },
    {
     "name": "stderr",
     "output_type": "stream",
     "text": [
      "\n"
     ]
    },
    {
     "name": "stdout",
     "output_type": "stream",
     "text": [
      "Accuracy, Precision, Recall:  0.176 0.169 0.992\n",
      "Finished Testing...\n"
     ]
    }
   ],
   "source": [
    "for i in range(len(file_list3)):\n",
    "    file_list33 = [file_list3[i]]\n",
    "    test_file_list33 = [test_file_list3[i]]\n",
    "    clf = train_svm(file_list=file_list33, cols=cols, scaledata=True)\n",
    "    test_svm(clf, test_file_list33, cols=cols)"
   ]
  },
  {
   "cell_type": "code",
   "execution_count": null,
   "id": "8856cd42",
   "metadata": {},
   "outputs": [],
   "source": []
  }
 ],
 "metadata": {
  "kernelspec": {
   "display_name": "Python 3",
   "language": "python",
   "name": "python3"
  },
  "language_info": {
   "codemirror_mode": {
    "name": "ipython",
    "version": 3
   },
   "file_extension": ".py",
   "mimetype": "text/x-python",
   "name": "python",
   "nbconvert_exporter": "python",
   "pygments_lexer": "ipython3",
   "version": "3.8.8"
  }
 },
 "nbformat": 4,
 "nbformat_minor": 5
}
