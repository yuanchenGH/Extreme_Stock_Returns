{
 "cells": [
  {
   "cell_type": "code",
   "execution_count": 1,
   "id": "f457667c",
   "metadata": {},
   "outputs": [],
   "source": [
    "import pandas as pd\n",
    "import numpy as np\n",
    "from sklearn.ensemble import RandomForestClassifier\n",
    "from sklearn.metrics import accuracy_score\n",
    "from sklearn.model_selection import KFold\n",
    "from imblearn.over_sampling import SMOTE\n",
    "from imblearn.under_sampling import RandomUnderSampler\n",
    "from collections import Counter"
   ]
  },
  {
   "cell_type": "code",
   "execution_count": 2,
   "id": "2313e0b3",
   "metadata": {},
   "outputs": [],
   "source": [
    "def cv_train(model, df, cols, over, under):\n",
    "    X = df.drop(['labels'], axis=1)\n",
    "    y = df['labels']\n",
    "#     print(Counter(y))\n",
    "    if over == 0.0:\n",
    "        under = RandomUnderSampler(sampling_strategy=under)\n",
    "        X_re2, y_re2 = under.fit_resample(X, y)\n",
    "    else:\n",
    "        over = SMOTE(sampling_strategy=over, n_jobs=4)\n",
    "        under = RandomUnderSampler(sampling_strategy=under)\n",
    "        X_re, y_re = over.fit_resample(X, y)\n",
    "        X_re2, y_re2 = under.fit_resample(X_re, y_re)\n",
    "#     print(Counter(y_re2))\n",
    "    model.fit(X_re2, y_re2)\n",
    "    return clf\n",
    "\n",
    "def cv_test(model, df_test, cols):\n",
    "    Xtest = df_test.drop(['labels'], axis=1)\n",
    "    ytest = df_test['labels'].values\n",
    "    ypred = model.predict(Xtest)\n",
    "    acc = accuracy_score(ypred, ytest)\n",
    "    TP, FP, TN, FN = 0, 0, 0, 0\n",
    "    for i in range(len(ypred)):\n",
    "        if ypred[i] == 1 and ytest[i] == 1:\n",
    "            TP += 1\n",
    "        elif ypred[i] == 1 and ytest[i] == 0:\n",
    "            FP += 1\n",
    "        elif ypred[i] == 0 and ytest[i] == 0:\n",
    "            TN += 1    \n",
    "        elif ypred[i] == 0 and ytest[i] == 1:\n",
    "            FN += 1\n",
    "    precision = TP/(TP + FP)\n",
    "    recall = TP/(TP + FN)\n",
    "    return acc, precision, recall\n",
    "\n",
    "\n",
    "def cv(filename, cols):\n",
    "    df = pd.read_csv('D:\\\\Stock Data\\\\'+filename, usecols=cols).iloc[0:10000]\n",
    "    kf5 = KFold(n_splits=5, shuffle=False)\n",
    "    for o in range(5):\n",
    "        lower = o\n",
    "        o = o/5 + 0.2\n",
    "        for u in range(5-lower):\n",
    "            u = o + u/5\n",
    "            print('over sampling = ', o, 'under sampling = ', u)\n",
    "            acc, pre, rec = np.zeros(5), np.zeros(5), np.zeros(5)\n",
    "            for i, (train_ind, test_ind) in enumerate(kf5.split(df)):\n",
    "                clf = RandomForestClassifier()\n",
    "                cv_train(clf, df.iloc[train_ind], cols=cols, over=o, under=u)\n",
    "                acc[i], pre[i], rec[i] = cv_test(clf, df.iloc[test_ind], cols)\n",
    "            print('Accuracy, Precision, Recall: ', np.round(np.mean(acc), 3), \\\n",
    "                    np.round(np.mean(pre), 3), np.round(np.mean(rec), 3))"
   ]
  },
  {
   "cell_type": "code",
   "execution_count": 3,
   "id": "dd9448c4",
   "metadata": {},
   "outputs": [],
   "source": [
    "def train(filename, cols):\n",
    "    path = 'D:\\\\Stock Data\\\\'\n",
    "    file = path + filename\n",
    "    print('Start Training ', file)\n",
    "    df = pd.read_csv(file, usecols=cols)\n",
    "    X = df.drop(['labels'], axis=1)\n",
    "    y = df['labels']\n",
    "    clf = RandomForestClassifier(n_estimators=80, min_samples_split=3)\n",
    "    clf.fit(X, y)\n",
    "    print('Finished Training ', file)\n",
    "    return clf\n",
    "\n",
    "def test(model, filename, cols):\n",
    "    path = 'D:\\\\Stock Data\\\\'\n",
    "    file = path + filename\n",
    "    print('Start Testing ', file)\n",
    "    df_test = pd.read_csv(file, usecols=cols)\n",
    "    Xtest = df_test.drop(['labels'], axis=1)\n",
    "    ytest = df_test['labels']\n",
    "    ypred = clf.predict(Xtest)\n",
    "    acc = accuracy_score(ypred, ytest)\n",
    "    TP, FP, TN, FN = 0, 0, 0, 0\n",
    "    for i in range(len(ypred)):\n",
    "        if ypred[i] == 1 and ytest[i] == 1:\n",
    "            TP += 1\n",
    "        elif ypred[i] == 1 and ytest[i] == 0:\n",
    "            FP += 1\n",
    "        elif ypred[i] == 0 and ytest[i] == 0:\n",
    "            TN += 1    \n",
    "        elif ypred[i] == 0 and ytest[i] == 1:\n",
    "            FN += 1\n",
    "    precision = TP/(TP + FP)\n",
    "    recall = TP/(TP + FN)\n",
    "    print('Finished Testing ', file)\n",
    "    print('Accuracy, Precision, Recall: ', np.round(acc, 3), np.round(precision, 3), np.round(recall, 3))\n",
    "          "
   ]
  },
  {
   "cell_type": "code",
   "execution_count": 10,
   "id": "c9c7a291",
   "metadata": {},
   "outputs": [],
   "source": [
    "filename1 = 'data2020_train1.csv'\n",
    "filename2 = 'data2020_under.csv'\n",
    "test_filename = 'data2020_test1.csv'\n",
    "# cols = ['past_1y_mean', 'past_1y_vol', 'PAST_1y_p90', 'leverage', 'leverage_mkt', \\\n",
    "#             'bm', 'roe', 'lag_baspread', 'lag_liquidity', 'lag_size', 'labels']\n",
    "cols = ['PAST_1y_p90', 'leverage', 'leverage_mkt', \\\n",
    "            'bm', 'roe', 'lag_baspread', 'lag_liquidity', 'lag_size', 'labels']"
   ]
  },
  {
   "cell_type": "code",
   "execution_count": 11,
   "id": "7140e39b",
   "metadata": {
    "scrolled": false
   },
   "outputs": [
    {
     "name": "stdout",
     "output_type": "stream",
     "text": [
      "Start Training  D:\\Stock Data\\data2020_train1.csv\n",
      "Finished Training  D:\\Stock Data\\data2020_train1.csv\n",
      "Start Testing  D:\\Stock Data\\data2020_test1.csv\n",
      "Finished Testing  D:\\Stock Data\\data2020_test1.csv\n",
      "Accuracy, Precision, Recall:  0.818 0.35 0.095\n"
     ]
    }
   ],
   "source": [
    "#single year, original data\n",
    "clf = train(filename1, cols)\n",
    "test(clf, test_filename, cols)"
   ]
  },
  {
   "cell_type": "code",
   "execution_count": 17,
   "id": "48727981",
   "metadata": {},
   "outputs": [
    {
     "name": "stdout",
     "output_type": "stream",
     "text": [
      "Start Training  D:\\Stock Data\\data2020_under.csv\n",
      "Finished Training  D:\\Stock Data\\data2020_under.csv\n",
      "Start Testing  D:\\Stock Data\\data2020_test1.csv\n",
      "Finished Testing  D:\\Stock Data\\data2020_test1.csv\n",
      "Accuracy, Precision, Recall:  0.617 0.247 0.626\n"
     ]
    }
   ],
   "source": [
    "#single year, under sampling data\n",
    "clf = train(filename2, cols)\n",
    "test(clf, test_filename, cols)"
   ]
  },
  {
   "cell_type": "code",
   "execution_count": 13,
   "id": "5e8b5f3f",
   "metadata": {},
   "outputs": [],
   "source": [
    "#predict using prior year\n",
    "file_list1 = ['data2015_under.csv', 'data2016_under.csv', 'data2017_under.csv']\n",
    "test_filelist1 = ['data2015_test1.csv', 'data2016_test1.csv', 'data2017_test1.csv']"
   ]
  },
  {
   "cell_type": "code",
   "execution_count": 14,
   "id": "59d22b7c",
   "metadata": {},
   "outputs": [
    {
     "name": "stdout",
     "output_type": "stream",
     "text": [
      "Start Training  D:\\Stock Data\\data2015_under.csv\n",
      "Finished Training  D:\\Stock Data\\data2015_under.csv\n",
      "Start Testing  D:\\Stock Data\\data2015_test1.csv\n",
      "Finished Testing  D:\\Stock Data\\data2015_test1.csv\n",
      "Accuracy, Precision, Recall:  0.557 0.137 0.557\n",
      "Start Training  D:\\Stock Data\\data2016_under.csv\n",
      "Finished Training  D:\\Stock Data\\data2016_under.csv\n",
      "Start Testing  D:\\Stock Data\\data2016_test1.csv\n",
      "Finished Testing  D:\\Stock Data\\data2016_test1.csv\n",
      "Accuracy, Precision, Recall:  0.574 0.137 0.58\n",
      "Start Training  D:\\Stock Data\\data2017_under.csv\n",
      "Finished Training  D:\\Stock Data\\data2017_under.csv\n",
      "Start Testing  D:\\Stock Data\\data2017_test1.csv\n",
      "Finished Testing  D:\\Stock Data\\data2017_test1.csv\n",
      "Accuracy, Precision, Recall:  0.553 0.108 0.562\n"
     ]
    }
   ],
   "source": [
    "for i in range(3):\n",
    "    clf = train(file_list1[i], cols)\n",
    "    test(clf, test_filelist1[i], cols)"
   ]
  },
  {
   "cell_type": "code",
   "execution_count": 15,
   "id": "9dd3046e",
   "metadata": {},
   "outputs": [],
   "source": [
    "file_list2 = ['data2000_under.csv', 'data2001_under.csv', 'data2002_under.csv', \\\n",
    "                  'data2003_under.csv', 'data2004_under.csv', 'data2005_under.csv', \\\n",
    "                  'data2006_under.csv', 'data2007_under.csv', 'data2008_under.csv', \\\n",
    "                  'data2009_under.csv', 'data2010_under.csv', 'data2011_under.csv', \\\n",
    "                  'data2012_under.csv', 'data2013_under.csv', 'data2014_under.csv', \\\n",
    "                  'data2015_under.csv', 'data2016_under.csv', 'data2017_under.csv', \\\n",
    "                  'data2018_under.csv', 'data2019_under.csv', 'data2020_under.csv']\n",
    "test_file_list2 = ['data2000_test1.csv', 'data2001_test1.csv', 'data2002_test1.csv', \\\n",
    "                          'data2003_test1.csv', 'data2004_test1.csv', 'data2005_test1.csv', \\\n",
    "                          'data2006_test1.csv', 'data2007_test1.csv', 'data2008_test1.csv', \\\n",
    "                          'data2009_test1.csv', 'data2010_test1.csv', 'data2011_test1.csv', \\\n",
    "                          'data2012_test1.csv', 'data2013_test1.csv', 'data2014_test1.csv', \\\n",
    "                          'data2015_test1.csv', 'data2016_test1.csv', 'data2017_test1.csv', \\\n",
    "                          'data2018_test1.csv', 'data2019_test1.csv', 'data2020_test1.csv']"
   ]
  },
  {
   "cell_type": "code",
   "execution_count": 17,
   "id": "db92804a",
   "metadata": {
    "scrolled": false
   },
   "outputs": [
    {
     "name": "stdout",
     "output_type": "stream",
     "text": [
      "Start Training  D:\\Stock Data\\data2000_under.csv\n",
      "Finished Training  D:\\Stock Data\\data2000_under.csv\n",
      "Start Testing  D:\\Stock Data\\data2000_test1.csv\n",
      "Finished Testing  D:\\Stock Data\\data2000_test1.csv\n",
      "Accuracy, Precision, Recall:  0.571 0.145 0.578\n",
      "Start Training  D:\\Stock Data\\data2001_under.csv\n",
      "Finished Training  D:\\Stock Data\\data2001_under.csv\n",
      "Start Testing  D:\\Stock Data\\data2001_test1.csv\n",
      "Finished Testing  D:\\Stock Data\\data2001_test1.csv\n",
      "Accuracy, Precision, Recall:  0.588 0.122 0.576\n",
      "Start Training  D:\\Stock Data\\data2002_under.csv\n",
      "Finished Training  D:\\Stock Data\\data2002_under.csv\n",
      "Start Testing  D:\\Stock Data\\data2002_test1.csv\n",
      "Finished Testing  D:\\Stock Data\\data2002_test1.csv\n",
      "Accuracy, Precision, Recall:  0.581 0.133 0.577\n",
      "Start Training  D:\\Stock Data\\data2003_under.csv\n",
      "Finished Training  D:\\Stock Data\\data2003_under.csv\n",
      "Start Testing  D:\\Stock Data\\data2003_test1.csv\n",
      "Finished Testing  D:\\Stock Data\\data2003_test1.csv\n",
      "Accuracy, Precision, Recall:  0.573 0.106 0.563\n",
      "Start Training  D:\\Stock Data\\data2004_under.csv\n",
      "Finished Training  D:\\Stock Data\\data2004_under.csv\n",
      "Start Testing  D:\\Stock Data\\data2004_test1.csv\n",
      "Finished Testing  D:\\Stock Data\\data2004_test1.csv\n",
      "Accuracy, Precision, Recall:  0.554 0.109 0.559\n",
      "Start Training  D:\\Stock Data\\data2005_under.csv\n",
      "Finished Training  D:\\Stock Data\\data2005_under.csv\n",
      "Start Testing  D:\\Stock Data\\data2005_test1.csv\n",
      "Finished Testing  D:\\Stock Data\\data2005_test1.csv\n",
      "Accuracy, Precision, Recall:  0.551 0.115 0.551\n",
      "Start Training  D:\\Stock Data\\data2006_under.csv\n",
      "Finished Training  D:\\Stock Data\\data2006_under.csv\n",
      "Start Testing  D:\\Stock Data\\data2006_test1.csv\n",
      "Finished Testing  D:\\Stock Data\\data2006_test1.csv\n",
      "Accuracy, Precision, Recall:  0.544 0.118 0.547\n",
      "Start Training  D:\\Stock Data\\data2007_under.csv\n",
      "Finished Training  D:\\Stock Data\\data2007_under.csv\n",
      "Start Testing  D:\\Stock Data\\data2007_test1.csv\n",
      "Finished Testing  D:\\Stock Data\\data2007_test1.csv\n",
      "Accuracy, Precision, Recall:  0.561 0.143 0.561\n",
      "Start Training  D:\\Stock Data\\data2008_under.csv\n",
      "Finished Training  D:\\Stock Data\\data2008_under.csv\n",
      "Start Testing  D:\\Stock Data\\data2008_test1.csv\n",
      "Finished Testing  D:\\Stock Data\\data2008_test1.csv\n",
      "Accuracy, Precision, Recall:  0.56 0.199 0.576\n",
      "Start Training  D:\\Stock Data\\data2009_under.csv\n",
      "Finished Training  D:\\Stock Data\\data2009_under.csv\n",
      "Start Testing  D:\\Stock Data\\data2009_test1.csv\n",
      "Finished Testing  D:\\Stock Data\\data2009_test1.csv\n",
      "Accuracy, Precision, Recall:  0.619 0.133 0.641\n",
      "Start Training  D:\\Stock Data\\data2010_under.csv\n",
      "Finished Training  D:\\Stock Data\\data2010_under.csv\n",
      "Start Testing  D:\\Stock Data\\data2010_test1.csv\n",
      "Finished Testing  D:\\Stock Data\\data2010_test1.csv\n",
      "Accuracy, Precision, Recall:  0.571 0.106 0.589\n",
      "Start Training  D:\\Stock Data\\data2011_under.csv\n",
      "Finished Training  D:\\Stock Data\\data2011_under.csv\n",
      "Start Testing  D:\\Stock Data\\data2011_test1.csv\n",
      "Finished Testing  D:\\Stock Data\\data2011_test1.csv\n",
      "Accuracy, Precision, Recall:  0.582 0.157 0.594\n",
      "Start Training  D:\\Stock Data\\data2012_under.csv\n",
      "Finished Training  D:\\Stock Data\\data2012_under.csv\n",
      "Start Testing  D:\\Stock Data\\data2012_test1.csv\n",
      "Finished Testing  D:\\Stock Data\\data2012_test1.csv\n",
      "Accuracy, Precision, Recall:  0.57 0.097 0.57\n",
      "Start Training  D:\\Stock Data\\data2013_under.csv\n",
      "Finished Training  D:\\Stock Data\\data2013_under.csv\n",
      "Start Testing  D:\\Stock Data\\data2013_test1.csv\n",
      "Finished Testing  D:\\Stock Data\\data2013_test1.csv\n",
      "Accuracy, Precision, Recall:  0.553 0.113 0.55\n",
      "Start Training  D:\\Stock Data\\data2014_under.csv\n",
      "Finished Training  D:\\Stock Data\\data2014_under.csv\n",
      "Start Testing  D:\\Stock Data\\data2014_test1.csv\n",
      "Finished Testing  D:\\Stock Data\\data2014_test1.csv\n",
      "Accuracy, Precision, Recall:  0.562 0.126 0.567\n",
      "Start Training  D:\\Stock Data\\data2015_under.csv\n",
      "Finished Training  D:\\Stock Data\\data2015_under.csv\n",
      "Start Testing  D:\\Stock Data\\data2015_test1.csv\n",
      "Finished Testing  D:\\Stock Data\\data2015_test1.csv\n",
      "Accuracy, Precision, Recall:  0.557 0.137 0.556\n",
      "Start Training  D:\\Stock Data\\data2016_under.csv\n",
      "Finished Training  D:\\Stock Data\\data2016_under.csv\n",
      "Start Testing  D:\\Stock Data\\data2016_test1.csv\n",
      "Finished Testing  D:\\Stock Data\\data2016_test1.csv\n",
      "Accuracy, Precision, Recall:  0.575 0.138 0.579\n",
      "Start Training  D:\\Stock Data\\data2017_under.csv\n",
      "Finished Training  D:\\Stock Data\\data2017_under.csv\n",
      "Start Testing  D:\\Stock Data\\data2017_test1.csv\n",
      "Finished Testing  D:\\Stock Data\\data2017_test1.csv\n",
      "Accuracy, Precision, Recall:  0.552 0.107 0.56\n",
      "Start Training  D:\\Stock Data\\data2018_under.csv\n",
      "Finished Training  D:\\Stock Data\\data2018_under.csv\n",
      "Start Testing  D:\\Stock Data\\data2018_test1.csv\n",
      "Finished Testing  D:\\Stock Data\\data2018_test1.csv\n",
      "Accuracy, Precision, Recall:  0.553 0.135 0.555\n",
      "Start Training  D:\\Stock Data\\data2019_under.csv\n",
      "Finished Training  D:\\Stock Data\\data2019_under.csv\n",
      "Start Testing  D:\\Stock Data\\data2019_test1.csv\n",
      "Finished Testing  D:\\Stock Data\\data2019_test1.csv\n",
      "Accuracy, Precision, Recall:  0.559 0.127 0.558\n",
      "Start Training  D:\\Stock Data\\data2020_under.csv\n",
      "Finished Training  D:\\Stock Data\\data2020_under.csv\n",
      "Start Testing  D:\\Stock Data\\data2020_test1.csv\n",
      "Finished Testing  D:\\Stock Data\\data2020_test1.csv\n",
      "Accuracy, Precision, Recall:  0.615 0.245 0.618\n"
     ]
    }
   ],
   "source": [
    "for i in range(21):\n",
    "    clf = train(file_list2[i], cols)\n",
    "    test(clf, test_file_list2[i], cols)"
   ]
  },
  {
   "cell_type": "code",
   "execution_count": 5,
   "id": "8adc8f72",
   "metadata": {},
   "outputs": [],
   "source": [
    "file_list3 = ['data2000_train1.csv', 'data2001_train1.csv', 'data2002_train1.csv', \\\n",
    "                  'data2003_train1.csv', 'data2004_train1.csv', 'data2005_train1.csv', \\\n",
    "                  'data2006_train1.csv', 'data2007_train1.csv', 'data2008_train1.csv', \\\n",
    "                  'data2009_train1.csv', 'data2010_train1.csv', 'data2011_train1.csv', \\\n",
    "                  'data2012_train1.csv', 'data2013_train1.csv', 'data2014_train1.csv', \\\n",
    "                  'data2015_train1.csv', 'data2016_train1.csv', 'data2017_train1.csv', \\\n",
    "                  'data2018_train1.csv', 'data2019_train1.csv', 'data2020_train1.csv']\n",
    "test_file_list3 = ['data2000_test1.csv', 'data2001_test1.csv', 'data2002_test1.csv', \\\n",
    "                          'data2003_test1.csv', 'data2004_test1.csv', 'data2005_test1.csv', \\\n",
    "                          'data2006_test1.csv', 'data2007_test1.csv', 'data2008_test1.csv', \\\n",
    "                          'data2009_test1.csv', 'data2010_test1.csv', 'data2011_test1.csv', \\\n",
    "                          'data2012_test1.csv', 'data2013_test1.csv', 'data2014_test1.csv', \\\n",
    "                          'data2015_test1.csv', 'data2016_test1.csv', 'data2017_test1.csv', \\\n",
    "                          'data2018_test1.csv', 'data2019_test1.csv', 'data2020_test1.csv']"
   ]
  },
  {
   "cell_type": "code",
   "execution_count": 7,
   "id": "3799b6d0",
   "metadata": {},
   "outputs": [
    {
     "name": "stdout",
     "output_type": "stream",
     "text": [
      "Start Training  D:\\Stock Data\\data2000_train1.csv\n",
      "Finished Training  D:\\Stock Data\\data2000_train1.csv\n",
      "Start Testing  D:\\Stock Data\\data2000_test1.csv\n",
      "Finished Testing  D:\\Stock Data\\data2000_test1.csv\n",
      "Accuracy, Precision, Recall:  0.883 0.219 0.018\n",
      "Start Training  D:\\Stock Data\\data2001_train1.csv\n",
      "Finished Training  D:\\Stock Data\\data2001_train1.csv\n",
      "Start Testing  D:\\Stock Data\\data2001_test1.csv\n",
      "Finished Testing  D:\\Stock Data\\data2001_test1.csv\n",
      "Accuracy, Precision, Recall:  0.907 0.236 0.014\n",
      "Start Training  D:\\Stock Data\\data2002_train1.csv\n",
      "Finished Training  D:\\Stock Data\\data2002_train1.csv\n",
      "Start Testing  D:\\Stock Data\\data2002_test1.csv\n",
      "Finished Testing  D:\\Stock Data\\data2002_test1.csv\n",
      "Accuracy, Precision, Recall:  0.896 0.218 0.014\n",
      "Start Training  D:\\Stock Data\\data2003_train1.csv\n",
      "Finished Training  D:\\Stock Data\\data2003_train1.csv\n",
      "Start Testing  D:\\Stock Data\\data2003_test1.csv\n",
      "Finished Testing  D:\\Stock Data\\data2003_test1.csv\n",
      "Accuracy, Precision, Recall:  0.915 0.17 0.007\n",
      "Start Training  D:\\Stock Data\\data2004_train1.csv\n",
      "Finished Training  D:\\Stock Data\\data2004_train1.csv\n",
      "Start Testing  D:\\Stock Data\\data2004_test1.csv\n",
      "Finished Testing  D:\\Stock Data\\data2004_test1.csv\n",
      "Accuracy, Precision, Recall:  0.909 0.174 0.007\n",
      "Start Training  D:\\Stock Data\\data2005_train1.csv\n",
      "Finished Training  D:\\Stock Data\\data2005_train1.csv\n",
      "Start Testing  D:\\Stock Data\\data2005_test1.csv\n",
      "Finished Testing  D:\\Stock Data\\data2005_test1.csv\n",
      "Accuracy, Precision, Recall:  0.901 0.164 0.008\n",
      "Start Training  D:\\Stock Data\\data2006_train1.csv\n",
      "Finished Training  D:\\Stock Data\\data2006_train1.csv\n",
      "Start Testing  D:\\Stock Data\\data2006_test1.csv\n",
      "Finished Testing  D:\\Stock Data\\data2006_test1.csv\n",
      "Accuracy, Precision, Recall:  0.896 0.161 0.008\n",
      "Start Training  D:\\Stock Data\\data2007_train1.csv\n",
      "Finished Training  D:\\Stock Data\\data2007_train1.csv\n",
      "Start Testing  D:\\Stock Data\\data2007_test1.csv\n",
      "Finished Testing  D:\\Stock Data\\data2007_test1.csv\n",
      "Accuracy, Precision, Recall:  0.88 0.197 0.013\n",
      "Start Training  D:\\Stock Data\\data2008_train1.csv\n",
      "Finished Training  D:\\Stock Data\\data2008_train1.csv\n",
      "Start Testing  D:\\Stock Data\\data2008_test1.csv\n",
      "Finished Testing  D:\\Stock Data\\data2008_test1.csv\n",
      "Accuracy, Precision, Recall:  0.832 0.243 0.024\n",
      "Start Training  D:\\Stock Data\\data2009_train1.csv\n",
      "Finished Training  D:\\Stock Data\\data2009_train1.csv\n",
      "Start Testing  D:\\Stock Data\\data2009_test1.csv\n",
      "Finished Testing  D:\\Stock Data\\data2009_test1.csv\n",
      "Accuracy, Precision, Recall:  0.913 0.217 0.016\n",
      "Start Training  D:\\Stock Data\\data2010_train1.csv\n",
      "Finished Training  D:\\Stock Data\\data2010_train1.csv\n",
      "Start Testing  D:\\Stock Data\\data2010_test1.csv\n",
      "Finished Testing  D:\\Stock Data\\data2010_test1.csv\n",
      "Accuracy, Precision, Recall:  0.918 0.13 0.006\n",
      "Start Training  D:\\Stock Data\\data2011_train1.csv\n",
      "Finished Training  D:\\Stock Data\\data2011_train1.csv\n",
      "Start Testing  D:\\Stock Data\\data2011_test1.csv\n",
      "Finished Testing  D:\\Stock Data\\data2011_test1.csv\n",
      "Accuracy, Precision, Recall:  0.877 0.25 0.029\n",
      "Start Training  D:\\Stock Data\\data2012_train1.csv\n",
      "Finished Training  D:\\Stock Data\\data2012_train1.csv\n",
      "Start Testing  D:\\Stock Data\\data2012_test1.csv\n",
      "Finished Testing  D:\\Stock Data\\data2012_test1.csv\n",
      "Accuracy, Precision, Recall:  0.923 0.14 0.006\n",
      "Start Training  D:\\Stock Data\\data2013_train1.csv\n",
      "Finished Training  D:\\Stock Data\\data2013_train1.csv\n",
      "Start Testing  D:\\Stock Data\\data2013_test1.csv\n",
      "Finished Testing  D:\\Stock Data\\data2013_test1.csv\n",
      "Accuracy, Precision, Recall:  0.903 0.146 0.008\n",
      "Start Training  D:\\Stock Data\\data2014_train1.csv\n",
      "Finished Training  D:\\Stock Data\\data2014_train1.csv\n",
      "Start Testing  D:\\Stock Data\\data2014_test1.csv\n",
      "Finished Testing  D:\\Stock Data\\data2014_test1.csv\n",
      "Accuracy, Precision, Recall:  0.895 0.176 0.012\n",
      "Start Training  D:\\Stock Data\\data2015_train1.csv\n",
      "Finished Training  D:\\Stock Data\\data2015_train1.csv\n",
      "Start Testing  D:\\Stock Data\\data2015_test1.csv\n",
      "Finished Testing  D:\\Stock Data\\data2015_test1.csv\n",
      "Accuracy, Precision, Recall:  0.881 0.19 0.017\n",
      "Start Training  D:\\Stock Data\\data2016_train1.csv\n",
      "Finished Training  D:\\Stock Data\\data2016_train1.csv\n",
      "Start Testing  D:\\Stock Data\\data2016_test1.csv\n",
      "Finished Testing  D:\\Stock Data\\data2016_test1.csv\n",
      "Accuracy, Precision, Recall:  0.889 0.203 0.019\n",
      "Start Training  D:\\Stock Data\\data2017_train1.csv\n",
      "Finished Training  D:\\Stock Data\\data2017_train1.csv\n",
      "Start Testing  D:\\Stock Data\\data2017_test1.csv\n",
      "Finished Testing  D:\\Stock Data\\data2017_test1.csv\n",
      "Accuracy, Precision, Recall:  0.908 0.14 0.009\n",
      "Start Training  D:\\Stock Data\\data2018_train1.csv\n",
      "Finished Training  D:\\Stock Data\\data2018_train1.csv\n",
      "Start Testing  D:\\Stock Data\\data2018_test1.csv\n",
      "Finished Testing  D:\\Stock Data\\data2018_test1.csv\n",
      "Accuracy, Precision, Recall:  0.882 0.191 0.017\n",
      "Start Training  D:\\Stock Data\\data2019_train1.csv\n",
      "Finished Training  D:\\Stock Data\\data2019_train1.csv\n",
      "Start Testing  D:\\Stock Data\\data2019_test1.csv\n",
      "Finished Testing  D:\\Stock Data\\data2019_test1.csv\n",
      "Accuracy, Precision, Recall:  0.893 0.173 0.012\n",
      "Start Training  D:\\Stock Data\\data2020_train1.csv\n",
      "Finished Training  D:\\Stock Data\\data2020_train1.csv\n",
      "Start Testing  D:\\Stock Data\\data2020_test1.csv\n",
      "Finished Testing  D:\\Stock Data\\data2020_test1.csv\n",
      "Accuracy, Precision, Recall:  0.818 0.35 0.099\n"
     ]
    }
   ],
   "source": [
    "for i in range(21):\n",
    "    clf = train(file_list3[i], cols)\n",
    "    test(clf, test_file_list3[i], cols)"
   ]
  },
  {
   "cell_type": "code",
   "execution_count": 8,
   "id": "3289ff4d",
   "metadata": {},
   "outputs": [],
   "source": [
    "file_list3 = ['data1998_under.csv', 'data1999_under.csv']\n",
    "test_file_list3 = ['data1998_test1.csv', 'data1999_test1.csv']"
   ]
  },
  {
   "cell_type": "code",
   "execution_count": 9,
   "id": "87c5f8a3",
   "metadata": {},
   "outputs": [
    {
     "name": "stdout",
     "output_type": "stream",
     "text": [
      "Start Training  D:\\Stock Data\\data1998_under.csv\n",
      "Finished Training  D:\\Stock Data\\data1998_under.csv\n",
      "Start Testing  D:\\Stock Data\\data1998_test1.csv\n",
      "Finished Testing  D:\\Stock Data\\data1998_test1.csv\n",
      "Accuracy, Precision, Recall:  0.574 0.153 0.579\n",
      "Start Training  D:\\Stock Data\\data1999_under.csv\n",
      "Finished Training  D:\\Stock Data\\data1999_under.csv\n",
      "Start Testing  D:\\Stock Data\\data1999_test1.csv\n",
      "Finished Testing  D:\\Stock Data\\data1999_test1.csv\n",
      "Accuracy, Precision, Recall:  0.577 0.153 0.579\n"
     ]
    }
   ],
   "source": [
    "for i in range(2):\n",
    "    clf = train(file_list3[i], cols)\n",
    "    test(clf, test_file_list3[i], cols)"
   ]
  },
  {
   "cell_type": "code",
   "execution_count": null,
   "id": "ff3ccd04",
   "metadata": {},
   "outputs": [],
   "source": [
    "filename = 'data2020_under.csv'"
   ]
  },
  {
   "cell_type": "code",
   "execution_count": 216,
   "id": "0ccca4d8",
   "metadata": {
    "scrolled": false
   },
   "outputs": [
    {
     "name": "stdout",
     "output_type": "stream",
     "text": [
      "over sampling =  0.2 under sampling =  0.2\n",
      "Accuracy, Precision, Recall:  0.889 0.157 0.014\n",
      "over sampling =  0.2 under sampling =  0.4\n",
      "Accuracy, Precision, Recall:  0.867 0.118 0.045\n",
      "over sampling =  0.2 under sampling =  0.6000000000000001\n",
      "Accuracy, Precision, Recall:  0.82 0.131 0.134\n",
      "over sampling =  0.2 under sampling =  0.8\n",
      "Accuracy, Precision, Recall:  0.735 0.116 0.236\n",
      "over sampling =  0.2 under sampling =  1.0\n",
      "Accuracy, Precision, Recall:  0.643 0.117 0.377\n",
      "over sampling =  0.4 under sampling =  0.4\n",
      "Accuracy, Precision, Recall:  0.875 0.123 0.035\n",
      "over sampling =  0.4 under sampling =  0.6000000000000001\n",
      "Accuracy, Precision, Recall:  0.839 0.112 0.081\n",
      "over sampling =  0.4 under sampling =  0.8\n",
      "Accuracy, Precision, Recall:  0.786 0.112 0.157\n",
      "over sampling =  0.4 under sampling =  1.0\n",
      "Accuracy, Precision, Recall:  0.725 0.109 0.233\n",
      "over sampling =  0.6000000000000001 under sampling =  0.6000000000000001\n",
      "Accuracy, Precision, Recall:  0.851 0.122 0.072\n",
      "over sampling =  0.6000000000000001 under sampling =  0.8\n",
      "Accuracy, Precision, Recall:  0.809 0.108 0.116\n",
      "over sampling =  0.6000000000000001 under sampling =  1.0\n",
      "Accuracy, Precision, Recall:  0.758 0.112 0.194\n",
      "over sampling =  0.8 under sampling =  0.8\n",
      "Accuracy, Precision, Recall:  0.823 0.116 0.109\n",
      "over sampling =  0.8 under sampling =  1.0\n",
      "Accuracy, Precision, Recall:  0.785 0.112 0.158\n",
      "over sampling =  1.0 under sampling =  1.0\n",
      "Accuracy, Precision, Recall:  0.796 0.113 0.143\n"
     ]
    }
   ],
   "source": [
    "#cross validation of over and undersampling\n",
    "cv(filename, cols=cols)"
   ]
  },
  {
   "cell_type": "code",
   "execution_count": 221,
   "id": "a56555e7",
   "metadata": {},
   "outputs": [
    {
     "name": "stdout",
     "output_type": "stream",
     "text": [
      "Accuracy, Precision, Recall:  0.546 0.118 0.529\n"
     ]
    }
   ],
   "source": [
    "#no oversampling\n",
    "df = pd.read_csv('D:\\\\Stock Data\\\\'+filename, usecols=cols).iloc[0:10000]\n",
    "kf5 = KFold(n_splits=5, shuffle=False)\n",
    "acc, pre, rec = np.zeros(5), np.zeros(5), np.zeros(5)\n",
    "for i, (train_ind, test_ind) in enumerate(kf5.split(df)):\n",
    "    clf = RandomForestClassifier()\n",
    "    cv_train(clf, df.iloc[train_ind], cols=cols, over=0.0, under=1.0)\n",
    "    acc[i], pre[i], rec[i] = cv_test(clf, df.iloc[test_ind], cols)\n",
    "print('Accuracy, Precision, Recall: ', np.round(np.mean(acc), 3), \\\n",
    "        np.round(np.mean(pre), 3), np.round(np.mean(rec), 3))"
   ]
  },
  {
   "cell_type": "code",
   "execution_count": 223,
   "id": "cf07d823",
   "metadata": {
    "scrolled": false
   },
   "outputs": [
    {
     "name": "stdout",
     "output_type": "stream",
     "text": [
      "number of estimators:  20\n",
      "Accuracy, Precision, Recall:  0.576 0.117 0.476\n",
      "number of estimators:  40\n",
      "Accuracy, Precision, Recall:  0.56 0.113 0.479\n",
      "number of estimators:  60\n",
      "Accuracy, Precision, Recall:  0.545 0.116 0.518\n",
      "number of estimators:  80\n",
      "Accuracy, Precision, Recall:  0.554 0.118 0.518\n",
      "number of estimators:  100\n",
      "Accuracy, Precision, Recall:  0.539 0.111 0.5\n",
      "number of estimators:  120\n",
      "Accuracy, Precision, Recall:  0.555 0.116 0.503\n",
      "number of estimators:  140\n",
      "Accuracy, Precision, Recall:  0.536 0.109 0.489\n",
      "number of estimators:  160\n",
      "Accuracy, Precision, Recall:  0.547 0.112 0.49\n",
      "number of estimators:  180\n",
      "Accuracy, Precision, Recall:  0.524 0.11 0.511\n",
      "number of estimators:  200\n",
      "Accuracy, Precision, Recall:  0.542 0.114 0.508\n"
     ]
    }
   ],
   "source": [
    "#cross validation of number of trees\n",
    "df = pd.read_csv('D:\\\\Stock Data\\\\'+filename, usecols=cols).iloc[0:10000]\n",
    "kf5 = KFold(n_splits=5, shuffle=False)\n",
    "for n in range(1, 11):\n",
    "    m = n*20\n",
    "    print('number of estimators: ', m)\n",
    "    acc, pre, rec = np.zeros(5), np.zeros(5), np.zeros(5)\n",
    "    for i, (train_ind, test_ind) in enumerate(kf5.split(df)):\n",
    "        clf = RandomForestClassifier(n_estimators=m)\n",
    "        cv_train(clf, df.iloc[train_ind], cols=cols, over=0.0, under=1.0)\n",
    "        acc[i], pre[i], rec[i] = cv_test(clf, df.iloc[test_ind], cols)\n",
    "    print('Accuracy, Precision, Recall: ', np.round(np.mean(acc), 3), \\\n",
    "            np.round(np.mean(pre), 3), np.round(np.mean(rec), 3))"
   ]
  },
  {
   "cell_type": "code",
   "execution_count": null,
   "id": "793f3c7c",
   "metadata": {},
   "outputs": [],
   "source": []
  },
  {
   "cell_type": "code",
   "execution_count": 225,
   "id": "ae7e3374",
   "metadata": {},
   "outputs": [
    {
     "name": "stdout",
     "output_type": "stream",
     "text": [
      "number of sample split:  2\n",
      "Accuracy, Precision, Recall:  0.54 0.113 0.505\n",
      "number of sample split:  3\n",
      "Accuracy, Precision, Recall:  0.534 0.117 0.541\n",
      "number of sample split:  4\n",
      "Accuracy, Precision, Recall:  0.527 0.112 0.521\n",
      "number of sample split:  5\n",
      "Accuracy, Precision, Recall:  0.536 0.115 0.522\n"
     ]
    }
   ],
   "source": [
    "#cross validation of number of split\n",
    "df = pd.read_csv('D:\\\\Stock Data\\\\'+filename, usecols=cols).iloc[0:10000]\n",
    "kf5 = KFold(n_splits=5, shuffle=False)\n",
    "for n in range(2, 6):\n",
    "    print('number of sample split: ', n)\n",
    "    acc, pre, rec = np.zeros(5), np.zeros(5), np.zeros(5)\n",
    "    for i, (train_ind, test_ind) in enumerate(kf5.split(df)):\n",
    "        clf = RandomForestClassifier(min_samples_split=n)\n",
    "        cv_train(clf, df.iloc[train_ind], cols=cols, over=0.0, under=1.0)\n",
    "        acc[i], pre[i], rec[i] = cv_test(clf, df.iloc[test_ind], cols)\n",
    "    print('Accuracy, Precision, Recall: ', np.round(np.mean(acc), 3), \\\n",
    "            np.round(np.mean(pre), 3), np.round(np.mean(rec), 3))"
   ]
  },
  {
   "cell_type": "code",
   "execution_count": null,
   "id": "14015f8b",
   "metadata": {},
   "outputs": [],
   "source": []
  }
 ],
 "metadata": {
  "kernelspec": {
   "display_name": "Python 3",
   "language": "python",
   "name": "python3"
  },
  "language_info": {
   "codemirror_mode": {
    "name": "ipython",
    "version": 3
   },
   "file_extension": ".py",
   "mimetype": "text/x-python",
   "name": "python",
   "nbconvert_exporter": "python",
   "pygments_lexer": "ipython3",
   "version": "3.8.8"
  }
 },
 "nbformat": 4,
 "nbformat_minor": 5
}
